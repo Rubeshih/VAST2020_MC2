{
 "metadata": {
  "language_info": {
   "codemirror_mode": {
    "name": "ipython",
    "version": 3
   },
   "file_extension": ".py",
   "mimetype": "text/x-python",
   "name": "python",
   "nbconvert_exporter": "python",
   "pygments_lexer": "ipython3",
   "version": "3.6.8-final"
  },
  "orig_nbformat": 2,
  "kernelspec": {
   "name": "Python 3.6.8 64-bit ('venv')",
   "display_name": "Python 3.6.8 64-bit ('venv')",
   "metadata": {
    "interpreter": {
     "hash": "23edad22f41e082f17329df72ca4a9e45cb586987bc1b9b888d7c4f637a14180"
    }
   }
  }
 },
 "nbformat": 4,
 "nbformat_minor": 2,
 "cells": [
  {
   "cell_type": "code",
   "execution_count": 6,
   "metadata": {},
   "outputs": [],
   "source": [
    "#READ_CSV, READ_TEXT, Import Pandas, os\n",
    "\n",
    "import pandas as pd\n",
    "import os\n",
    "\n",
    "def read_csv(path):\n",
    "    df = pd.read_csv(path, encoding='unicode_escape', dtype=str)\n",
    "    df['PersonID'] = os.path.split(path)[1].split('_')[0][6:]\n",
    "    df['ImageID'] = os.path.split(path)[1].split('.')[0][6:]\n",
    "    return df\n",
    "\n",
    "#只有 Text 跟 Caption 會用\n",
    "def read_text(path, colName):\n",
    "    df = pd.read_csv(path, sep='\\t', encoding='unicode_escape', names=[colName])\n",
    "    filename = os.path.split(path)[1]\n",
    "    if 'text' in filename:\n",
    "        df['TextID'] = filename[6:-4]\n",
    "    else:\n",
    "        df['ImageID'] = os.path.split(path)[1].split('.')[0][6:-7]\n",
    "    return df\n"
   ]
  },
  {
   "cell_type": "code",
   "execution_count": 7,
   "metadata": {},
   "outputs": [],
   "source": [
    "#Reading all file\n",
    "\n",
    "DataPath = 'MC2-Image-Data/'\n",
    "\n",
    "#Full DataPaths\n",
    "CsvList = []\n",
    "#ImageList = [] \n",
    "CapList = [] \n",
    "TextList = []\n",
    "\n",
    "#ImagesNames = []\n",
    "\n",
    "for r, d, files in os.walk(DataPath):\n",
    "\n",
    "    if 'TrainingImages' in r:\n",
    "            continue\n",
    "\n",
    "    for _file in files:\n",
    "\n",
    "        if _file.endswith('.csv'):\n",
    "            CsvList.append(r + '/' + _file)\n",
    "        #elif _file.endswith('.jpg'):\n",
    "        #    ImageList.append(r + '/' +_file)\n",
    "        #    ImagesNames.append(_file)\n",
    "        elif 'caption.txt' in _file:\n",
    "            CapList.append(r + '/' +_file)\n",
    "        elif 'text' in _file:\n",
    "            TextList.append(r + '/' +_file)"
   ]
  },
  {
   "cell_type": "code",
   "execution_count": 8,
   "metadata": {},
   "outputs": [
    {
     "output_type": "error",
     "ename": "UnicodeDecodeError",
     "evalue": "'utf-8' codec can't decode byte 0x8e in position 166: invalid start byte",
     "traceback": [
      "\u001b[0;31m---------------------------------------------------------------------------\u001b[0m",
      "\u001b[0;31mUnicodeDecodeError\u001b[0m                        Traceback (most recent call last)",
      "\u001b[0;32m<ipython-input-8-e42ded11945f>\u001b[0m in \u001b[0;36m<module>\u001b[0;34m\u001b[0m\n\u001b[1;32m     15\u001b[0m \u001b[0mtmp\u001b[0m \u001b[0;34m=\u001b[0m \u001b[0;34m[\u001b[0m\u001b[0;34m]\u001b[0m\u001b[0;34m\u001b[0m\u001b[0;34m\u001b[0m\u001b[0m\n\u001b[1;32m     16\u001b[0m \u001b[0;32mfor\u001b[0m \u001b[0mpath\u001b[0m \u001b[0;32min\u001b[0m \u001b[0mCsvList\u001b[0m\u001b[0;34m:\u001b[0m\u001b[0;34m\u001b[0m\u001b[0;34m\u001b[0m\u001b[0m\n\u001b[0;32m---> 17\u001b[0;31m     \u001b[0mtmp\u001b[0m\u001b[0;34m.\u001b[0m\u001b[0mappend\u001b[0m\u001b[0;34m(\u001b[0m\u001b[0mread_csv\u001b[0m\u001b[0;34m(\u001b[0m\u001b[0mpath\u001b[0m\u001b[0;34m)\u001b[0m\u001b[0;34m)\u001b[0m\u001b[0;34m\u001b[0m\u001b[0;34m\u001b[0m\u001b[0m\n\u001b[0m\u001b[1;32m     18\u001b[0m \u001b[0;34m\u001b[0m\u001b[0m\n\u001b[1;32m     19\u001b[0m \u001b[0mcsv_df\u001b[0m \u001b[0;34m=\u001b[0m \u001b[0mpd\u001b[0m\u001b[0;34m.\u001b[0m\u001b[0mconcat\u001b[0m\u001b[0;34m(\u001b[0m\u001b[0mtmp\u001b[0m\u001b[0;34m,\u001b[0m \u001b[0mignore_index\u001b[0m\u001b[0;34m=\u001b[0m\u001b[0;32mTrue\u001b[0m\u001b[0;34m)\u001b[0m\u001b[0;34m\u001b[0m\u001b[0;34m\u001b[0m\u001b[0m\n",
      "\u001b[0;32m<ipython-input-6-80078d4ec9ff>\u001b[0m in \u001b[0;36mread_csv\u001b[0;34m(path)\u001b[0m\n\u001b[1;32m      5\u001b[0m \u001b[0;34m\u001b[0m\u001b[0m\n\u001b[1;32m      6\u001b[0m \u001b[0;32mdef\u001b[0m \u001b[0mread_csv\u001b[0m\u001b[0;34m(\u001b[0m\u001b[0mpath\u001b[0m\u001b[0;34m)\u001b[0m\u001b[0;34m:\u001b[0m\u001b[0;34m\u001b[0m\u001b[0;34m\u001b[0m\u001b[0m\n\u001b[0;32m----> 7\u001b[0;31m     \u001b[0mdf\u001b[0m \u001b[0;34m=\u001b[0m \u001b[0mpd\u001b[0m\u001b[0;34m.\u001b[0m\u001b[0mread_csv\u001b[0m\u001b[0;34m(\u001b[0m\u001b[0mpath\u001b[0m\u001b[0;34m,\u001b[0m \u001b[0mencoding\u001b[0m\u001b[0;34m=\u001b[0m\u001b[0;34m'UTF-8'\u001b[0m\u001b[0;34m,\u001b[0m \u001b[0mdtype\u001b[0m\u001b[0;34m=\u001b[0m\u001b[0mstr\u001b[0m\u001b[0;34m)\u001b[0m\u001b[0;34m\u001b[0m\u001b[0;34m\u001b[0m\u001b[0m\n\u001b[0m\u001b[1;32m      8\u001b[0m     \u001b[0mdf\u001b[0m\u001b[0;34m[\u001b[0m\u001b[0;34m'PersonID'\u001b[0m\u001b[0;34m]\u001b[0m \u001b[0;34m=\u001b[0m \u001b[0mos\u001b[0m\u001b[0;34m.\u001b[0m\u001b[0mpath\u001b[0m\u001b[0;34m.\u001b[0m\u001b[0msplit\u001b[0m\u001b[0;34m(\u001b[0m\u001b[0mpath\u001b[0m\u001b[0;34m)\u001b[0m\u001b[0;34m[\u001b[0m\u001b[0;36m1\u001b[0m\u001b[0;34m]\u001b[0m\u001b[0;34m.\u001b[0m\u001b[0msplit\u001b[0m\u001b[0;34m(\u001b[0m\u001b[0;34m'_'\u001b[0m\u001b[0;34m)\u001b[0m\u001b[0;34m[\u001b[0m\u001b[0;36m0\u001b[0m\u001b[0;34m]\u001b[0m\u001b[0;34m[\u001b[0m\u001b[0;36m6\u001b[0m\u001b[0;34m:\u001b[0m\u001b[0;34m]\u001b[0m\u001b[0;34m\u001b[0m\u001b[0;34m\u001b[0m\u001b[0m\n\u001b[1;32m      9\u001b[0m     \u001b[0mdf\u001b[0m\u001b[0;34m[\u001b[0m\u001b[0;34m'ImageID'\u001b[0m\u001b[0;34m]\u001b[0m \u001b[0;34m=\u001b[0m \u001b[0mos\u001b[0m\u001b[0;34m.\u001b[0m\u001b[0mpath\u001b[0m\u001b[0;34m.\u001b[0m\u001b[0msplit\u001b[0m\u001b[0;34m(\u001b[0m\u001b[0mpath\u001b[0m\u001b[0;34m)\u001b[0m\u001b[0;34m[\u001b[0m\u001b[0;36m1\u001b[0m\u001b[0;34m]\u001b[0m\u001b[0;34m.\u001b[0m\u001b[0msplit\u001b[0m\u001b[0;34m(\u001b[0m\u001b[0;34m'.'\u001b[0m\u001b[0;34m)\u001b[0m\u001b[0;34m[\u001b[0m\u001b[0;36m0\u001b[0m\u001b[0;34m]\u001b[0m\u001b[0;34m[\u001b[0m\u001b[0;36m6\u001b[0m\u001b[0;34m:\u001b[0m\u001b[0;34m]\u001b[0m\u001b[0;34m\u001b[0m\u001b[0;34m\u001b[0m\u001b[0m\n",
      "\u001b[0;32m~/Documents/VAST2020_MC2/venv/lib/python3.6/site-packages/pandas/io/parsers.py\u001b[0m in \u001b[0;36mread_csv\u001b[0;34m(filepath_or_buffer, sep, delimiter, header, names, index_col, usecols, squeeze, prefix, mangle_dupe_cols, dtype, engine, converters, true_values, false_values, skipinitialspace, skiprows, skipfooter, nrows, na_values, keep_default_na, na_filter, verbose, skip_blank_lines, parse_dates, infer_datetime_format, keep_date_col, date_parser, dayfirst, cache_dates, iterator, chunksize, compression, thousands, decimal, lineterminator, quotechar, quoting, doublequote, escapechar, comment, encoding, dialect, error_bad_lines, warn_bad_lines, delim_whitespace, low_memory, memory_map, float_precision)\u001b[0m\n\u001b[1;32m    684\u001b[0m     )\n\u001b[1;32m    685\u001b[0m \u001b[0;34m\u001b[0m\u001b[0m\n\u001b[0;32m--> 686\u001b[0;31m     \u001b[0;32mreturn\u001b[0m \u001b[0m_read\u001b[0m\u001b[0;34m(\u001b[0m\u001b[0mfilepath_or_buffer\u001b[0m\u001b[0;34m,\u001b[0m \u001b[0mkwds\u001b[0m\u001b[0;34m)\u001b[0m\u001b[0;34m\u001b[0m\u001b[0;34m\u001b[0m\u001b[0m\n\u001b[0m\u001b[1;32m    687\u001b[0m \u001b[0;34m\u001b[0m\u001b[0m\n\u001b[1;32m    688\u001b[0m \u001b[0;34m\u001b[0m\u001b[0m\n",
      "\u001b[0;32m~/Documents/VAST2020_MC2/venv/lib/python3.6/site-packages/pandas/io/parsers.py\u001b[0m in \u001b[0;36m_read\u001b[0;34m(filepath_or_buffer, kwds)\u001b[0m\n\u001b[1;32m    450\u001b[0m \u001b[0;34m\u001b[0m\u001b[0m\n\u001b[1;32m    451\u001b[0m     \u001b[0;31m# Create the parser.\u001b[0m\u001b[0;34m\u001b[0m\u001b[0;34m\u001b[0m\u001b[0;34m\u001b[0m\u001b[0m\n\u001b[0;32m--> 452\u001b[0;31m     \u001b[0mparser\u001b[0m \u001b[0;34m=\u001b[0m \u001b[0mTextFileReader\u001b[0m\u001b[0;34m(\u001b[0m\u001b[0mfp_or_buf\u001b[0m\u001b[0;34m,\u001b[0m \u001b[0;34m**\u001b[0m\u001b[0mkwds\u001b[0m\u001b[0;34m)\u001b[0m\u001b[0;34m\u001b[0m\u001b[0;34m\u001b[0m\u001b[0m\n\u001b[0m\u001b[1;32m    453\u001b[0m \u001b[0;34m\u001b[0m\u001b[0m\n\u001b[1;32m    454\u001b[0m     \u001b[0;32mif\u001b[0m \u001b[0mchunksize\u001b[0m \u001b[0;32mor\u001b[0m \u001b[0miterator\u001b[0m\u001b[0;34m:\u001b[0m\u001b[0;34m\u001b[0m\u001b[0;34m\u001b[0m\u001b[0m\n",
      "\u001b[0;32m~/Documents/VAST2020_MC2/venv/lib/python3.6/site-packages/pandas/io/parsers.py\u001b[0m in \u001b[0;36m__init__\u001b[0;34m(self, f, engine, **kwds)\u001b[0m\n\u001b[1;32m    944\u001b[0m             \u001b[0mself\u001b[0m\u001b[0;34m.\u001b[0m\u001b[0moptions\u001b[0m\u001b[0;34m[\u001b[0m\u001b[0;34m\"has_index_names\"\u001b[0m\u001b[0;34m]\u001b[0m \u001b[0;34m=\u001b[0m \u001b[0mkwds\u001b[0m\u001b[0;34m[\u001b[0m\u001b[0;34m\"has_index_names\"\u001b[0m\u001b[0;34m]\u001b[0m\u001b[0;34m\u001b[0m\u001b[0;34m\u001b[0m\u001b[0m\n\u001b[1;32m    945\u001b[0m \u001b[0;34m\u001b[0m\u001b[0m\n\u001b[0;32m--> 946\u001b[0;31m         \u001b[0mself\u001b[0m\u001b[0;34m.\u001b[0m\u001b[0m_make_engine\u001b[0m\u001b[0;34m(\u001b[0m\u001b[0mself\u001b[0m\u001b[0;34m.\u001b[0m\u001b[0mengine\u001b[0m\u001b[0;34m)\u001b[0m\u001b[0;34m\u001b[0m\u001b[0;34m\u001b[0m\u001b[0m\n\u001b[0m\u001b[1;32m    947\u001b[0m \u001b[0;34m\u001b[0m\u001b[0m\n\u001b[1;32m    948\u001b[0m     \u001b[0;32mdef\u001b[0m \u001b[0mclose\u001b[0m\u001b[0;34m(\u001b[0m\u001b[0mself\u001b[0m\u001b[0;34m)\u001b[0m\u001b[0;34m:\u001b[0m\u001b[0;34m\u001b[0m\u001b[0;34m\u001b[0m\u001b[0m\n",
      "\u001b[0;32m~/Documents/VAST2020_MC2/venv/lib/python3.6/site-packages/pandas/io/parsers.py\u001b[0m in \u001b[0;36m_make_engine\u001b[0;34m(self, engine)\u001b[0m\n\u001b[1;32m   1176\u001b[0m     \u001b[0;32mdef\u001b[0m \u001b[0m_make_engine\u001b[0m\u001b[0;34m(\u001b[0m\u001b[0mself\u001b[0m\u001b[0;34m,\u001b[0m \u001b[0mengine\u001b[0m\u001b[0;34m=\u001b[0m\u001b[0;34m\"c\"\u001b[0m\u001b[0;34m)\u001b[0m\u001b[0;34m:\u001b[0m\u001b[0;34m\u001b[0m\u001b[0;34m\u001b[0m\u001b[0m\n\u001b[1;32m   1177\u001b[0m         \u001b[0;32mif\u001b[0m \u001b[0mengine\u001b[0m \u001b[0;34m==\u001b[0m \u001b[0;34m\"c\"\u001b[0m\u001b[0;34m:\u001b[0m\u001b[0;34m\u001b[0m\u001b[0;34m\u001b[0m\u001b[0m\n\u001b[0;32m-> 1178\u001b[0;31m             \u001b[0mself\u001b[0m\u001b[0;34m.\u001b[0m\u001b[0m_engine\u001b[0m \u001b[0;34m=\u001b[0m \u001b[0mCParserWrapper\u001b[0m\u001b[0;34m(\u001b[0m\u001b[0mself\u001b[0m\u001b[0;34m.\u001b[0m\u001b[0mf\u001b[0m\u001b[0;34m,\u001b[0m \u001b[0;34m**\u001b[0m\u001b[0mself\u001b[0m\u001b[0;34m.\u001b[0m\u001b[0moptions\u001b[0m\u001b[0;34m)\u001b[0m\u001b[0;34m\u001b[0m\u001b[0;34m\u001b[0m\u001b[0m\n\u001b[0m\u001b[1;32m   1179\u001b[0m         \u001b[0;32melse\u001b[0m\u001b[0;34m:\u001b[0m\u001b[0;34m\u001b[0m\u001b[0;34m\u001b[0m\u001b[0m\n\u001b[1;32m   1180\u001b[0m             \u001b[0;32mif\u001b[0m \u001b[0mengine\u001b[0m \u001b[0;34m==\u001b[0m \u001b[0;34m\"python\"\u001b[0m\u001b[0;34m:\u001b[0m\u001b[0;34m\u001b[0m\u001b[0;34m\u001b[0m\u001b[0m\n",
      "\u001b[0;32m~/Documents/VAST2020_MC2/venv/lib/python3.6/site-packages/pandas/io/parsers.py\u001b[0m in \u001b[0;36m__init__\u001b[0;34m(self, src, **kwds)\u001b[0m\n\u001b[1;32m   2006\u001b[0m         \u001b[0mkwds\u001b[0m\u001b[0;34m[\u001b[0m\u001b[0;34m\"usecols\"\u001b[0m\u001b[0;34m]\u001b[0m \u001b[0;34m=\u001b[0m \u001b[0mself\u001b[0m\u001b[0;34m.\u001b[0m\u001b[0musecols\u001b[0m\u001b[0;34m\u001b[0m\u001b[0;34m\u001b[0m\u001b[0m\n\u001b[1;32m   2007\u001b[0m \u001b[0;34m\u001b[0m\u001b[0m\n\u001b[0;32m-> 2008\u001b[0;31m         \u001b[0mself\u001b[0m\u001b[0;34m.\u001b[0m\u001b[0m_reader\u001b[0m \u001b[0;34m=\u001b[0m \u001b[0mparsers\u001b[0m\u001b[0;34m.\u001b[0m\u001b[0mTextReader\u001b[0m\u001b[0;34m(\u001b[0m\u001b[0msrc\u001b[0m\u001b[0;34m,\u001b[0m \u001b[0;34m**\u001b[0m\u001b[0mkwds\u001b[0m\u001b[0;34m)\u001b[0m\u001b[0;34m\u001b[0m\u001b[0;34m\u001b[0m\u001b[0m\n\u001b[0m\u001b[1;32m   2009\u001b[0m         \u001b[0mself\u001b[0m\u001b[0;34m.\u001b[0m\u001b[0munnamed_cols\u001b[0m \u001b[0;34m=\u001b[0m \u001b[0mself\u001b[0m\u001b[0;34m.\u001b[0m\u001b[0m_reader\u001b[0m\u001b[0;34m.\u001b[0m\u001b[0munnamed_cols\u001b[0m\u001b[0;34m\u001b[0m\u001b[0;34m\u001b[0m\u001b[0m\n\u001b[1;32m   2010\u001b[0m \u001b[0;34m\u001b[0m\u001b[0m\n",
      "\u001b[0;32mpandas/_libs/parsers.pyx\u001b[0m in \u001b[0;36mpandas._libs.parsers.TextReader.__cinit__\u001b[0;34m()\u001b[0m\n",
      "\u001b[0;32mpandas/_libs/parsers.pyx\u001b[0m in \u001b[0;36mpandas._libs.parsers.TextReader._get_header\u001b[0;34m()\u001b[0m\n",
      "\u001b[0;32mpandas/_libs/parsers.pyx\u001b[0m in \u001b[0;36mpandas._libs.parsers.TextReader._tokenize_rows\u001b[0;34m()\u001b[0m\n",
      "\u001b[0;32mpandas/_libs/parsers.pyx\u001b[0m in \u001b[0;36mpandas._libs.parsers.raise_parser_error\u001b[0;34m()\u001b[0m\n",
      "\u001b[0;31mUnicodeDecodeError\u001b[0m: 'utf-8' codec can't decode byte 0x8e in position 166: invalid start byte"
     ]
    }
   ],
   "source": [
    "# Make Caption/Text/Csv DataFrame\n",
    "\n",
    "tmp = []\n",
    "for path in CapList:\n",
    "    tmp.append(read_text(path, 'Caption'))\n",
    "\n",
    "cap_df = pd.concat(tmp, ignore_index=True)\n",
    "\n",
    "tmp = []\n",
    "for path in TextList:\n",
    "    tmp.append(read_text(path, 'Text'))\n",
    "\n",
    "text_df = pd.concat(tmp, ignore_index=True)\n",
    "\n",
    "tmp = []\n",
    "for path in CsvList:\n",
    "    tmp.append(read_csv(path))\n",
    "\n",
    "csv_df = pd.concat(tmp, ignore_index=True)\n",
    "\n",
    "csv_df"
   ]
  },
  {
   "cell_type": "code",
   "execution_count": 1,
   "metadata": {},
   "outputs": [
    {
     "output_type": "error",
     "ename": "NameError",
     "evalue": "name 'csv_df' is not defined",
     "traceback": [
      "\u001b[0;31m---------------------------------------------------------------------------\u001b[0m",
      "\u001b[0;31mNameError\u001b[0m                                 Traceback (most recent call last)",
      "\u001b[0;32m<ipython-input-1-4ae55db60a0a>\u001b[0m in \u001b[0;36m<module>\u001b[0;34m\u001b[0m\n\u001b[1;32m      2\u001b[0m \u001b[0;34m\u001b[0m\u001b[0m\n\u001b[1;32m      3\u001b[0m \u001b[0;31m# Sort by Simply ImageID\u001b[0m\u001b[0;34m\u001b[0m\u001b[0;34m\u001b[0m\u001b[0;34m\u001b[0m\u001b[0m\n\u001b[0;32m----> 4\u001b[0;31m \u001b[0mcsv_df\u001b[0m\u001b[0;34m[\u001b[0m\u001b[0;34m'Sort'\u001b[0m\u001b[0;34m]\u001b[0m \u001b[0;34m=\u001b[0m \u001b[0mcsv_df\u001b[0m\u001b[0;34m[\u001b[0m\u001b[0;34m'ImageID'\u001b[0m\u001b[0;34m]\u001b[0m\u001b[0;34m.\u001b[0m\u001b[0mapply\u001b[0m\u001b[0;34m(\u001b[0m\u001b[0;32mlambda\u001b[0m \u001b[0mx\u001b[0m \u001b[0;34m:\u001b[0m \u001b[0mint\u001b[0m\u001b[0;34m(\u001b[0m\u001b[0mx\u001b[0m\u001b[0;34m.\u001b[0m\u001b[0mreplace\u001b[0m\u001b[0;34m(\u001b[0m\u001b[0;34m'_'\u001b[0m\u001b[0;34m,\u001b[0m \u001b[0;34m\"\"\u001b[0m\u001b[0;34m)\u001b[0m\u001b[0;34m)\u001b[0m\u001b[0;34m)\u001b[0m\u001b[0;34m\u001b[0m\u001b[0;34m\u001b[0m\u001b[0m\n\u001b[0m\u001b[1;32m      5\u001b[0m \u001b[0mcsv_df\u001b[0m \u001b[0;34m=\u001b[0m \u001b[0mcsv_df\u001b[0m\u001b[0;34m.\u001b[0m\u001b[0msort_values\u001b[0m\u001b[0;34m(\u001b[0m\u001b[0mby\u001b[0m\u001b[0;34m=\u001b[0m\u001b[0;34m'Sort'\u001b[0m\u001b[0;34m,\u001b[0m \u001b[0mignore_index\u001b[0m\u001b[0;34m=\u001b[0m\u001b[0;32mTrue\u001b[0m\u001b[0;34m)\u001b[0m\u001b[0;34m\u001b[0m\u001b[0;34m\u001b[0m\u001b[0m\n\u001b[1;32m      6\u001b[0m \u001b[0mcsv_df\u001b[0m \u001b[0;34m=\u001b[0m \u001b[0mcsv_df\u001b[0m\u001b[0;34m.\u001b[0m\u001b[0mdrop\u001b[0m\u001b[0;34m(\u001b[0m\u001b[0mcolumns\u001b[0m \u001b[0;34m=\u001b[0m \u001b[0;34m[\u001b[0m\u001b[0;34m'Sort'\u001b[0m\u001b[0;34m]\u001b[0m\u001b[0;34m)\u001b[0m\u001b[0;34m\u001b[0m\u001b[0;34m\u001b[0m\u001b[0m\n",
      "\u001b[0;31mNameError\u001b[0m: name 'csv_df' is not defined"
     ]
    }
   ],
   "source": [
    "import numpy as np\n",
    "\n",
    "# Sort by Simply ImageID\n",
    "csv_df['Sort'] = csv_df['ImageID'].apply(lambda x : int(x.replace('_', \"\"))) \n",
    "csv_df = csv_df.sort_values(by='Sort', ignore_index=True)\n",
    "csv_df = csv_df.drop(columns = ['Sort'])\n",
    "csv_df"
   ]
  },
  {
   "cell_type": "code",
   "execution_count": 18,
   "metadata": {},
   "outputs": [
    {
     "output_type": "execute_result",
     "data": {
      "text/plain": [
       "         x     y Width Height    Score           Label PersonID ImageID\n",
       "0     2554   313   955    888  0.28139         eyeball        1     1_1\n",
       "1     1855  1724   578   1079  0.34569      pinkCandle        1     1_1\n",
       "2       14   666  1465   2309  0.42683    pumpkinNotes        1     1_1\n",
       "3     1560  1301  1197    615  0.32564  blueSunglasses        1     1_1\n",
       "4       14   464  1775   2268  0.38394       yellowBag        1     1_1\n",
       "...    ...   ...   ...    ...      ...             ...      ...     ...\n",
       "4486    18  1222  2074   2247  0.25895       yellowBag       40   40_10\n",
       "4487  1279   957  1521   1371  0.48834        hairClip       40   40_10\n",
       "4488   847  1556  1590   1544  0.58092      redWhistle       40   40_10\n",
       "4489  1055   795  1953   1602  0.30762        birdCall       40   40_10\n",
       "4490  1884  1176   985   1291  0.30588       cloudSign       40   40_10\n",
       "\n",
       "[4491 rows x 8 columns]"
      ],
      "text/html": "<div>\n<style scoped>\n    .dataframe tbody tr th:only-of-type {\n        vertical-align: middle;\n    }\n\n    .dataframe tbody tr th {\n        vertical-align: top;\n    }\n\n    .dataframe thead th {\n        text-align: right;\n    }\n</style>\n<table border=\"1\" class=\"dataframe\">\n  <thead>\n    <tr style=\"text-align: right;\">\n      <th></th>\n      <th>x</th>\n      <th>y</th>\n      <th>Width</th>\n      <th>Height</th>\n      <th>Score</th>\n      <th>Label</th>\n      <th>PersonID</th>\n      <th>ImageID</th>\n    </tr>\n  </thead>\n  <tbody>\n    <tr>\n      <th>0</th>\n      <td>2554</td>\n      <td>313</td>\n      <td>955</td>\n      <td>888</td>\n      <td>0.28139</td>\n      <td>eyeball</td>\n      <td>1</td>\n      <td>1_1</td>\n    </tr>\n    <tr>\n      <th>1</th>\n      <td>1855</td>\n      <td>1724</td>\n      <td>578</td>\n      <td>1079</td>\n      <td>0.34569</td>\n      <td>pinkCandle</td>\n      <td>1</td>\n      <td>1_1</td>\n    </tr>\n    <tr>\n      <th>2</th>\n      <td>14</td>\n      <td>666</td>\n      <td>1465</td>\n      <td>2309</td>\n      <td>0.42683</td>\n      <td>pumpkinNotes</td>\n      <td>1</td>\n      <td>1_1</td>\n    </tr>\n    <tr>\n      <th>3</th>\n      <td>1560</td>\n      <td>1301</td>\n      <td>1197</td>\n      <td>615</td>\n      <td>0.32564</td>\n      <td>blueSunglasses</td>\n      <td>1</td>\n      <td>1_1</td>\n    </tr>\n    <tr>\n      <th>4</th>\n      <td>14</td>\n      <td>464</td>\n      <td>1775</td>\n      <td>2268</td>\n      <td>0.38394</td>\n      <td>yellowBag</td>\n      <td>1</td>\n      <td>1_1</td>\n    </tr>\n    <tr>\n      <th>...</th>\n      <td>...</td>\n      <td>...</td>\n      <td>...</td>\n      <td>...</td>\n      <td>...</td>\n      <td>...</td>\n      <td>...</td>\n      <td>...</td>\n    </tr>\n    <tr>\n      <th>4486</th>\n      <td>18</td>\n      <td>1222</td>\n      <td>2074</td>\n      <td>2247</td>\n      <td>0.25895</td>\n      <td>yellowBag</td>\n      <td>40</td>\n      <td>40_10</td>\n    </tr>\n    <tr>\n      <th>4487</th>\n      <td>1279</td>\n      <td>957</td>\n      <td>1521</td>\n      <td>1371</td>\n      <td>0.48834</td>\n      <td>hairClip</td>\n      <td>40</td>\n      <td>40_10</td>\n    </tr>\n    <tr>\n      <th>4488</th>\n      <td>847</td>\n      <td>1556</td>\n      <td>1590</td>\n      <td>1544</td>\n      <td>0.58092</td>\n      <td>redWhistle</td>\n      <td>40</td>\n      <td>40_10</td>\n    </tr>\n    <tr>\n      <th>4489</th>\n      <td>1055</td>\n      <td>795</td>\n      <td>1953</td>\n      <td>1602</td>\n      <td>0.30762</td>\n      <td>birdCall</td>\n      <td>40</td>\n      <td>40_10</td>\n    </tr>\n    <tr>\n      <th>4490</th>\n      <td>1884</td>\n      <td>1176</td>\n      <td>985</td>\n      <td>1291</td>\n      <td>0.30588</td>\n      <td>cloudSign</td>\n      <td>40</td>\n      <td>40_10</td>\n    </tr>\n  </tbody>\n</table>\n<p>4491 rows × 8 columns</p>\n</div>"
     },
     "metadata": {},
     "execution_count": 18
    }
   ],
   "source": [
    "# Save Files\n",
    "csv_df.to_json('FineData.json', orient='records')\n",
    "csv_df\n"
   ]
  },
  {
   "cell_type": "code",
   "execution_count": 5,
   "metadata": {},
   "outputs": [
    {
     "output_type": "execute_result",
     "data": {
      "text/plain": [
       "           x       y  Width  Height    Score           Label PersonId ImageId\n",
       "0     1479.0    11.0   1922    1583  0.33861        birdCall        1     1_1\n",
       "1       14.0   464.0   1775    2268  0.38394       yellowBag        1     1_1\n",
       "2     1560.0  1301.0   1197     615  0.32564  blueSunglasses        1     1_1\n",
       "3       14.0   666.0   1465    2309  0.42683    pumpkinNotes        1     1_1\n",
       "4     1855.0  1724.0    578    1079  0.34569      pinkCandle        1     1_1\n",
       "...      ...     ...    ...     ...      ...             ...      ...     ...\n",
       "4486  1055.0   795.0   1953    1602  0.30762        birdCall       40   40_10\n",
       "4487  1884.0  1176.0    985    1291  0.30588       cloudSign       40   40_10\n",
       "4488   847.0  1556.0   1590    1544  0.58092      redWhistle       40   40_10\n",
       "4489  1279.0   957.0   1521    1371  0.48834        hairClip       40   40_10\n",
       "4490    18.0  1222.0   2074    2247  0.25895       yellowBag       40   40_10\n",
       "\n",
       "[4491 rows x 8 columns]"
      ],
      "text/html": "<div>\n<style scoped>\n    .dataframe tbody tr th:only-of-type {\n        vertical-align: middle;\n    }\n\n    .dataframe tbody tr th {\n        vertical-align: top;\n    }\n\n    .dataframe thead th {\n        text-align: right;\n    }\n</style>\n<table border=\"1\" class=\"dataframe\">\n  <thead>\n    <tr style=\"text-align: right;\">\n      <th></th>\n      <th>x</th>\n      <th>y</th>\n      <th>Width</th>\n      <th>Height</th>\n      <th>Score</th>\n      <th>Label</th>\n      <th>PersonId</th>\n      <th>ImageId</th>\n    </tr>\n  </thead>\n  <tbody>\n    <tr>\n      <th>0</th>\n      <td>1479.0</td>\n      <td>11.0</td>\n      <td>1922</td>\n      <td>1583</td>\n      <td>0.33861</td>\n      <td>birdCall</td>\n      <td>1</td>\n      <td>1_1</td>\n    </tr>\n    <tr>\n      <th>1</th>\n      <td>14.0</td>\n      <td>464.0</td>\n      <td>1775</td>\n      <td>2268</td>\n      <td>0.38394</td>\n      <td>yellowBag</td>\n      <td>1</td>\n      <td>1_1</td>\n    </tr>\n    <tr>\n      <th>2</th>\n      <td>1560.0</td>\n      <td>1301.0</td>\n      <td>1197</td>\n      <td>615</td>\n      <td>0.32564</td>\n      <td>blueSunglasses</td>\n      <td>1</td>\n      <td>1_1</td>\n    </tr>\n    <tr>\n      <th>3</th>\n      <td>14.0</td>\n      <td>666.0</td>\n      <td>1465</td>\n      <td>2309</td>\n      <td>0.42683</td>\n      <td>pumpkinNotes</td>\n      <td>1</td>\n      <td>1_1</td>\n    </tr>\n    <tr>\n      <th>4</th>\n      <td>1855.0</td>\n      <td>1724.0</td>\n      <td>578</td>\n      <td>1079</td>\n      <td>0.34569</td>\n      <td>pinkCandle</td>\n      <td>1</td>\n      <td>1_1</td>\n    </tr>\n    <tr>\n      <th>...</th>\n      <td>...</td>\n      <td>...</td>\n      <td>...</td>\n      <td>...</td>\n      <td>...</td>\n      <td>...</td>\n      <td>...</td>\n      <td>...</td>\n    </tr>\n    <tr>\n      <th>4486</th>\n      <td>1055.0</td>\n      <td>795.0</td>\n      <td>1953</td>\n      <td>1602</td>\n      <td>0.30762</td>\n      <td>birdCall</td>\n      <td>40</td>\n      <td>40_10</td>\n    </tr>\n    <tr>\n      <th>4487</th>\n      <td>1884.0</td>\n      <td>1176.0</td>\n      <td>985</td>\n      <td>1291</td>\n      <td>0.30588</td>\n      <td>cloudSign</td>\n      <td>40</td>\n      <td>40_10</td>\n    </tr>\n    <tr>\n      <th>4488</th>\n      <td>847.0</td>\n      <td>1556.0</td>\n      <td>1590</td>\n      <td>1544</td>\n      <td>0.58092</td>\n      <td>redWhistle</td>\n      <td>40</td>\n      <td>40_10</td>\n    </tr>\n    <tr>\n      <th>4489</th>\n      <td>1279.0</td>\n      <td>957.0</td>\n      <td>1521</td>\n      <td>1371</td>\n      <td>0.48834</td>\n      <td>hairClip</td>\n      <td>40</td>\n      <td>40_10</td>\n    </tr>\n    <tr>\n      <th>4490</th>\n      <td>18.0</td>\n      <td>1222.0</td>\n      <td>2074</td>\n      <td>2247</td>\n      <td>0.25895</td>\n      <td>yellowBag</td>\n      <td>40</td>\n      <td>40_10</td>\n    </tr>\n  </tbody>\n</table>\n<p>4491 rows × 8 columns</p>\n</div>"
     },
     "metadata": {},
     "execution_count": 5
    }
   ],
   "source": [
    "import pandas as pd\n",
    "# Load FineData\n",
    "Df = pd.read_json('FineData.json', orient='records', dtype=False)\n",
    "Df\n"
   ]
  },
  {
   "cell_type": "code",
   "execution_count": 23,
   "metadata": {},
   "outputs": [
    {
     "output_type": "execute_result",
     "data": {
      "text/plain": [
       "    ImageID PersonID       PC1       PC2\n",
       "0      10_1       10  0.254840 -1.394797\n",
       "1     10_10       10 -1.037851  1.149821\n",
       "2     10_11       10 -0.919088  1.095798\n",
       "3     10_12       10  0.309356 -0.378061\n",
       "4     10_13       10 -1.293908 -1.748523\n",
       "..      ...      ...       ...       ...\n",
       "889     9_5        9 -1.313600 -1.120599\n",
       "890     9_6        9 -0.164981  0.763328\n",
       "891     9_7        9  0.913529  1.366127\n",
       "892     9_8        9  3.071218  0.647996\n",
       "893     9_9        9  0.344307  0.751162\n",
       "\n",
       "[894 rows x 4 columns]"
      ],
      "text/html": "<div>\n<style scoped>\n    .dataframe tbody tr th:only-of-type {\n        vertical-align: middle;\n    }\n\n    .dataframe tbody tr th {\n        vertical-align: top;\n    }\n\n    .dataframe thead th {\n        text-align: right;\n    }\n</style>\n<table border=\"1\" class=\"dataframe\">\n  <thead>\n    <tr style=\"text-align: right;\">\n      <th></th>\n      <th>ImageID</th>\n      <th>PersonID</th>\n      <th>PC1</th>\n      <th>PC2</th>\n    </tr>\n  </thead>\n  <tbody>\n    <tr>\n      <th>0</th>\n      <td>10_1</td>\n      <td>10</td>\n      <td>0.254840</td>\n      <td>-1.394797</td>\n    </tr>\n    <tr>\n      <th>1</th>\n      <td>10_10</td>\n      <td>10</td>\n      <td>-1.037851</td>\n      <td>1.149821</td>\n    </tr>\n    <tr>\n      <th>2</th>\n      <td>10_11</td>\n      <td>10</td>\n      <td>-0.919088</td>\n      <td>1.095798</td>\n    </tr>\n    <tr>\n      <th>3</th>\n      <td>10_12</td>\n      <td>10</td>\n      <td>0.309356</td>\n      <td>-0.378061</td>\n    </tr>\n    <tr>\n      <th>4</th>\n      <td>10_13</td>\n      <td>10</td>\n      <td>-1.293908</td>\n      <td>-1.748523</td>\n    </tr>\n    <tr>\n      <th>...</th>\n      <td>...</td>\n      <td>...</td>\n      <td>...</td>\n      <td>...</td>\n    </tr>\n    <tr>\n      <th>889</th>\n      <td>9_5</td>\n      <td>9</td>\n      <td>-1.313600</td>\n      <td>-1.120599</td>\n    </tr>\n    <tr>\n      <th>890</th>\n      <td>9_6</td>\n      <td>9</td>\n      <td>-0.164981</td>\n      <td>0.763328</td>\n    </tr>\n    <tr>\n      <th>891</th>\n      <td>9_7</td>\n      <td>9</td>\n      <td>0.913529</td>\n      <td>1.366127</td>\n    </tr>\n    <tr>\n      <th>892</th>\n      <td>9_8</td>\n      <td>9</td>\n      <td>3.071218</td>\n      <td>0.647996</td>\n    </tr>\n    <tr>\n      <th>893</th>\n      <td>9_9</td>\n      <td>9</td>\n      <td>0.344307</td>\n      <td>0.751162</td>\n    </tr>\n  </tbody>\n</table>\n<p>894 rows × 4 columns</p>\n</div>"
     },
     "metadata": {},
     "execution_count": 23
    }
   ],
   "source": [
    "# Find PCA\n",
    "import numpy as np\n",
    "from sklearn import preprocessing\n",
    "from sklearn import decomposition\n",
    "\n",
    "pivot = Df.pivot(index='ImageID', columns='Label', values='Score').fillna(0.0).astype(np.float)\n",
    "#print(pivot.shape)\n",
    "\n",
    "target = pd.DataFrame(pivot.index)\n",
    "target['PersonID'] = target['ImageID'].apply(lambda x : x.split('_')[0])\n",
    "#print(target.shape)\n",
    "\n",
    "X = pivot.to_numpy()\n",
    "X = preprocessing.scale(X)\n",
    "\n",
    "pca = decomposition.PCA(n_components=2)\n",
    "X_r = pca.fit_transform(X)\n",
    "\n",
    "pca_df = pd.DataFrame(X_r, columns=['PC1', 'PC2'])\n",
    "\n",
    "\n",
    "# Concat Target and PCA\n",
    "res = pd.concat([target, pca_df], axis=1)\n",
    "res"
   ]
  },
  {
   "cell_type": "code",
   "execution_count": 12,
   "metadata": {},
   "outputs": [
    {
     "output_type": "error",
     "ename": "NameError",
     "evalue": "name 'res' is not defined",
     "traceback": [
      "\u001b[0;31m---------------------------------------------------------------------------\u001b[0m",
      "\u001b[0;31mNameError\u001b[0m                                 Traceback (most recent call last)",
      "\u001b[0;32m<ipython-input-12-27dad49f8a98>\u001b[0m in \u001b[0;36m<module>\u001b[0;34m\u001b[0m\n\u001b[1;32m      1\u001b[0m \u001b[0;31m#Save PCA fineData\u001b[0m\u001b[0;34m\u001b[0m\u001b[0;34m\u001b[0m\u001b[0;34m\u001b[0m\u001b[0m\n\u001b[0;32m----> 2\u001b[0;31m \u001b[0mres\u001b[0m\u001b[0;34m.\u001b[0m\u001b[0mto_json\u001b[0m\u001b[0;34m(\u001b[0m\u001b[0;34m'PCA.json'\u001b[0m\u001b[0;34m,\u001b[0m \u001b[0morient\u001b[0m\u001b[0;34m=\u001b[0m\u001b[0;34m'records'\u001b[0m\u001b[0;34m)\u001b[0m\u001b[0;34m\u001b[0m\u001b[0;34m\u001b[0m\u001b[0m\n\u001b[0m",
      "\u001b[0;31mNameError\u001b[0m: name 'res' is not defined"
     ]
    }
   ],
   "source": [
    "#Save PCA fineData\n",
    "res.to_json('PCA.json', orient='records')"
   ]
  },
  {
   "cell_type": "code",
   "execution_count": 6,
   "metadata": {},
   "outputs": [
    {
     "output_type": "execute_result",
     "data": {
      "text/plain": [
       "  ImageID PersonID       PC1       PC2\n",
       "0    10_1       10  0.254840 -1.394797\n",
       "1   10_10       10 -1.037851  1.149821\n",
       "2   10_11       10 -0.919088  1.095798\n",
       "3   10_12       10  0.309356 -0.378061\n",
       "4   10_13       10 -1.293908 -1.748523"
      ],
      "text/html": "<div>\n<style scoped>\n    .dataframe tbody tr th:only-of-type {\n        vertical-align: middle;\n    }\n\n    .dataframe tbody tr th {\n        vertical-align: top;\n    }\n\n    .dataframe thead th {\n        text-align: right;\n    }\n</style>\n<table border=\"1\" class=\"dataframe\">\n  <thead>\n    <tr style=\"text-align: right;\">\n      <th></th>\n      <th>ImageID</th>\n      <th>PersonID</th>\n      <th>PC1</th>\n      <th>PC2</th>\n    </tr>\n  </thead>\n  <tbody>\n    <tr>\n      <th>0</th>\n      <td>10_1</td>\n      <td>10</td>\n      <td>0.254840</td>\n      <td>-1.394797</td>\n    </tr>\n    <tr>\n      <th>1</th>\n      <td>10_10</td>\n      <td>10</td>\n      <td>-1.037851</td>\n      <td>1.149821</td>\n    </tr>\n    <tr>\n      <th>2</th>\n      <td>10_11</td>\n      <td>10</td>\n      <td>-0.919088</td>\n      <td>1.095798</td>\n    </tr>\n    <tr>\n      <th>3</th>\n      <td>10_12</td>\n      <td>10</td>\n      <td>0.309356</td>\n      <td>-0.378061</td>\n    </tr>\n    <tr>\n      <th>4</th>\n      <td>10_13</td>\n      <td>10</td>\n      <td>-1.293908</td>\n      <td>-1.748523</td>\n    </tr>\n  </tbody>\n</table>\n</div>"
     },
     "metadata": {},
     "execution_count": 6
    }
   ],
   "source": [
    "#Load PCA\n",
    "PCA_df = pd.read_json('PCA.json', orient='records', dtype=False)\n",
    "PCA_df.head()"
   ]
  },
  {
   "cell_type": "code",
   "execution_count": 4,
   "metadata": {},
   "outputs": [
    {
     "output_type": "execute_result",
     "data": {
      "text/plain": [
       "         y     x  Height  Width ImageID PersonID         Label\n",
       "0      427   288     650    672    37_9       37     cloudSign\n",
       "1      335  2842    2634    730    37_9       37    noisemaker\n",
       "2      335  3223    2664    763    37_9       37    noisemaker\n",
       "3      298  1038     888   1000    37_9       37    paperPlate\n",
       "4      642  2062     488    688    37_9       37    partyFavor\n",
       "...    ...   ...     ...    ...     ...      ...           ...\n",
       "1353  1386  2776     242    324   34_44       34        turtle\n",
       "1354  1972  1508     524    362     5_6        5  legoBracelet\n",
       "1355  1712  1940     232    629     5_6        5    redWhistle\n",
       "1356   781  2564     330    682     5_6        5    pinkEraser\n",
       "1357   350  2127    1248    513   11_18       11    noisemaker\n",
       "\n",
       "[1358 rows x 7 columns]"
      ],
      "text/html": "<div>\n<style scoped>\n    .dataframe tbody tr th:only-of-type {\n        vertical-align: middle;\n    }\n\n    .dataframe tbody tr th {\n        vertical-align: top;\n    }\n\n    .dataframe thead th {\n        text-align: right;\n    }\n</style>\n<table border=\"1\" class=\"dataframe\">\n  <thead>\n    <tr style=\"text-align: right;\">\n      <th></th>\n      <th>y</th>\n      <th>x</th>\n      <th>Height</th>\n      <th>Width</th>\n      <th>ImageID</th>\n      <th>PersonID</th>\n      <th>Label</th>\n    </tr>\n  </thead>\n  <tbody>\n    <tr>\n      <th>0</th>\n      <td>427</td>\n      <td>288</td>\n      <td>650</td>\n      <td>672</td>\n      <td>37_9</td>\n      <td>37</td>\n      <td>cloudSign</td>\n    </tr>\n    <tr>\n      <th>1</th>\n      <td>335</td>\n      <td>2842</td>\n      <td>2634</td>\n      <td>730</td>\n      <td>37_9</td>\n      <td>37</td>\n      <td>noisemaker</td>\n    </tr>\n    <tr>\n      <th>2</th>\n      <td>335</td>\n      <td>3223</td>\n      <td>2664</td>\n      <td>763</td>\n      <td>37_9</td>\n      <td>37</td>\n      <td>noisemaker</td>\n    </tr>\n    <tr>\n      <th>3</th>\n      <td>298</td>\n      <td>1038</td>\n      <td>888</td>\n      <td>1000</td>\n      <td>37_9</td>\n      <td>37</td>\n      <td>paperPlate</td>\n    </tr>\n    <tr>\n      <th>4</th>\n      <td>642</td>\n      <td>2062</td>\n      <td>488</td>\n      <td>688</td>\n      <td>37_9</td>\n      <td>37</td>\n      <td>partyFavor</td>\n    </tr>\n    <tr>\n      <th>...</th>\n      <td>...</td>\n      <td>...</td>\n      <td>...</td>\n      <td>...</td>\n      <td>...</td>\n      <td>...</td>\n      <td>...</td>\n    </tr>\n    <tr>\n      <th>1353</th>\n      <td>1386</td>\n      <td>2776</td>\n      <td>242</td>\n      <td>324</td>\n      <td>34_44</td>\n      <td>34</td>\n      <td>turtle</td>\n    </tr>\n    <tr>\n      <th>1354</th>\n      <td>1972</td>\n      <td>1508</td>\n      <td>524</td>\n      <td>362</td>\n      <td>5_6</td>\n      <td>5</td>\n      <td>legoBracelet</td>\n    </tr>\n    <tr>\n      <th>1355</th>\n      <td>1712</td>\n      <td>1940</td>\n      <td>232</td>\n      <td>629</td>\n      <td>5_6</td>\n      <td>5</td>\n      <td>redWhistle</td>\n    </tr>\n    <tr>\n      <th>1356</th>\n      <td>781</td>\n      <td>2564</td>\n      <td>330</td>\n      <td>682</td>\n      <td>5_6</td>\n      <td>5</td>\n      <td>pinkEraser</td>\n    </tr>\n    <tr>\n      <th>1357</th>\n      <td>350</td>\n      <td>2127</td>\n      <td>1248</td>\n      <td>513</td>\n      <td>11_18</td>\n      <td>11</td>\n      <td>noisemaker</td>\n    </tr>\n  </tbody>\n</table>\n<p>1358 rows × 7 columns</p>\n</div>"
     },
     "metadata": {},
     "execution_count": 4
    }
   ],
   "source": [
    "#Start Ground Truth\n",
    "#ref <https://github.com/gj0706/VAST2020_MC2/tree/master/data>\n",
    "\n",
    "#Load Ground Truth\n",
    "ground_truth_df = pd.read_json('gt.json', dtype=False)\n",
    "ground_truth_df.head()\n",
    "\n",
    "ground_truth_df.columns=['y','x', 'Height', 'Width', 'ImageID', 'PersonID', 'Label']\n",
    "ground_truth_df"
   ]
  },
  {
   "cell_type": "code",
   "execution_count": 27,
   "metadata": {},
   "outputs": [
    {
     "output_type": "execute_result",
     "data": {
      "text/plain": [
       "         y     x  Height  Width ImageID PersonID         Label\n",
       "0      427   288     650    672    37_9       37     cloudSign\n",
       "1      335  2842    2634    730    37_9       37    noisemaker\n",
       "2      335  3223    2664    763    37_9       37    noisemaker\n",
       "3      298  1038     888   1000    37_9       37    paperPlate\n",
       "4      642  2062     488    688    37_9       37    partyFavor\n",
       "...    ...   ...     ...    ...     ...      ...           ...\n",
       "1341  1386  2776     242    324   34_44       34        turtle\n",
       "1342  1972  1508     524    362     5_6        5  legoBracelet\n",
       "1343  1712  1940     232    629     5_6        5    redWhistle\n",
       "1344   781  2564     330    682     5_6        5    pinkEraser\n",
       "1345   350  2127    1248    513   11_18       11    noisemaker\n",
       "\n",
       "[1346 rows x 7 columns]"
      ],
      "text/html": "<div>\n<style scoped>\n    .dataframe tbody tr th:only-of-type {\n        vertical-align: middle;\n    }\n\n    .dataframe tbody tr th {\n        vertical-align: top;\n    }\n\n    .dataframe thead th {\n        text-align: right;\n    }\n</style>\n<table border=\"1\" class=\"dataframe\">\n  <thead>\n    <tr style=\"text-align: right;\">\n      <th></th>\n      <th>y</th>\n      <th>x</th>\n      <th>Height</th>\n      <th>Width</th>\n      <th>ImageID</th>\n      <th>PersonID</th>\n      <th>Label</th>\n    </tr>\n  </thead>\n  <tbody>\n    <tr>\n      <th>0</th>\n      <td>427</td>\n      <td>288</td>\n      <td>650</td>\n      <td>672</td>\n      <td>37_9</td>\n      <td>37</td>\n      <td>cloudSign</td>\n    </tr>\n    <tr>\n      <th>1</th>\n      <td>335</td>\n      <td>2842</td>\n      <td>2634</td>\n      <td>730</td>\n      <td>37_9</td>\n      <td>37</td>\n      <td>noisemaker</td>\n    </tr>\n    <tr>\n      <th>2</th>\n      <td>335</td>\n      <td>3223</td>\n      <td>2664</td>\n      <td>763</td>\n      <td>37_9</td>\n      <td>37</td>\n      <td>noisemaker</td>\n    </tr>\n    <tr>\n      <th>3</th>\n      <td>298</td>\n      <td>1038</td>\n      <td>888</td>\n      <td>1000</td>\n      <td>37_9</td>\n      <td>37</td>\n      <td>paperPlate</td>\n    </tr>\n    <tr>\n      <th>4</th>\n      <td>642</td>\n      <td>2062</td>\n      <td>488</td>\n      <td>688</td>\n      <td>37_9</td>\n      <td>37</td>\n      <td>partyFavor</td>\n    </tr>\n    <tr>\n      <th>...</th>\n      <td>...</td>\n      <td>...</td>\n      <td>...</td>\n      <td>...</td>\n      <td>...</td>\n      <td>...</td>\n      <td>...</td>\n    </tr>\n    <tr>\n      <th>1341</th>\n      <td>1386</td>\n      <td>2776</td>\n      <td>242</td>\n      <td>324</td>\n      <td>34_44</td>\n      <td>34</td>\n      <td>turtle</td>\n    </tr>\n    <tr>\n      <th>1342</th>\n      <td>1972</td>\n      <td>1508</td>\n      <td>524</td>\n      <td>362</td>\n      <td>5_6</td>\n      <td>5</td>\n      <td>legoBracelet</td>\n    </tr>\n    <tr>\n      <th>1343</th>\n      <td>1712</td>\n      <td>1940</td>\n      <td>232</td>\n      <td>629</td>\n      <td>5_6</td>\n      <td>5</td>\n      <td>redWhistle</td>\n    </tr>\n    <tr>\n      <th>1344</th>\n      <td>781</td>\n      <td>2564</td>\n      <td>330</td>\n      <td>682</td>\n      <td>5_6</td>\n      <td>5</td>\n      <td>pinkEraser</td>\n    </tr>\n    <tr>\n      <th>1345</th>\n      <td>350</td>\n      <td>2127</td>\n      <td>1248</td>\n      <td>513</td>\n      <td>11_18</td>\n      <td>11</td>\n      <td>noisemaker</td>\n    </tr>\n  </tbody>\n</table>\n<p>1346 rows × 7 columns</p>\n</div>"
     },
     "metadata": {},
     "execution_count": 27
    }
   ],
   "source": [
    "#Concat Ground Truth and PCA\n",
    "gt_df = pd.merge(ground_truth_df, PCA_df, how='inner', on=['ImageID', 'PersonID']) #順便移除含null列\n",
    "gt_df = gt_df.drop(['PC1','PC2'], axis=1)\n",
    "gt_df"
   ]
  },
  {
   "cell_type": "code",
   "execution_count": 8,
   "metadata": {},
   "outputs": [],
   "source": [
    "#Find Ground Truth PCA\n",
    "import numpy as np\n",
    "from sklearn import preprocessing\n",
    "from sklearn import decomposition\n",
    "\n",
    "final = gt_df\n",
    "final['Score'] = 1\n",
    "final = final.drop_duplicates(subset=['PersonID', 'ImageID', 'Label'])\n",
    "final = final\n",
    "pivot = pd.pivot(final, index='ImageID', columns='Label', values='Score').fillna(0).astype(np.float)\n",
    "\n",
    "target = pd.DataFrame(pivot.index)\n",
    "target['PersonID'] = target['ImageID'].apply(lambda x : x.split('_')[0])\n",
    "\n",
    "\n",
    "X = pivot.to_numpy()\n",
    "X = preprocessing.scale(X)\n",
    "\n",
    "pca = decomposition.PCA(n_components=2)\n",
    "X_r = pca.fit_transform(X)\n",
    "\n",
    "pca_df = pd.DataFrame(X_r, columns=['PC1', 'PC2'])\n",
    "gt_pca = pd.concat([target, pca_df], axis=1)\n"
   ]
  },
  {
   "cell_type": "code",
   "execution_count": 9,
   "metadata": {},
   "outputs": [
    {
     "output_type": "execute_result",
     "data": {
      "text/plain": [
       "(836, 4)"
      ]
     },
     "metadata": {},
     "execution_count": 9
    }
   ],
   "source": [
    "# Save gt_pca\n",
    "gt_pca.to_json('gt_pca.json', orient='records')\n",
    "gt_pca.shape"
   ]
  },
  {
   "cell_type": "code",
   "execution_count": 8,
   "metadata": {},
   "outputs": [
    {
     "output_type": "execute_result",
     "data": {
      "text/plain": [
       "     ImageID  PersonID       PC1       PC2\n",
       "0        101        10  2.322547  2.429287\n",
       "1       1010        10 -0.253859  0.025350\n",
       "2       1011        10 -0.253859  0.025350\n",
       "3       1012        10  0.038046 -0.927796\n",
       "4       1013        10  0.038046 -0.927796\n",
       "..       ...       ...       ...       ...\n",
       "831       95         9 -0.146531 -0.756362\n",
       "832       96         9  0.987913  0.625396\n",
       "833       97         9  0.987913  0.625396\n",
       "834       98         9  1.768584 -0.554533\n",
       "835       99         9  0.987913  0.625396\n",
       "\n",
       "[836 rows x 4 columns]"
      ],
      "text/html": "<div>\n<style scoped>\n    .dataframe tbody tr th:only-of-type {\n        vertical-align: middle;\n    }\n\n    .dataframe tbody tr th {\n        vertical-align: top;\n    }\n\n    .dataframe thead th {\n        text-align: right;\n    }\n</style>\n<table border=\"1\" class=\"dataframe\">\n  <thead>\n    <tr style=\"text-align: right;\">\n      <th></th>\n      <th>ImageID</th>\n      <th>PersonID</th>\n      <th>PC1</th>\n      <th>PC2</th>\n    </tr>\n  </thead>\n  <tbody>\n    <tr>\n      <th>0</th>\n      <td>101</td>\n      <td>10</td>\n      <td>2.322547</td>\n      <td>2.429287</td>\n    </tr>\n    <tr>\n      <th>1</th>\n      <td>1010</td>\n      <td>10</td>\n      <td>-0.253859</td>\n      <td>0.025350</td>\n    </tr>\n    <tr>\n      <th>2</th>\n      <td>1011</td>\n      <td>10</td>\n      <td>-0.253859</td>\n      <td>0.025350</td>\n    </tr>\n    <tr>\n      <th>3</th>\n      <td>1012</td>\n      <td>10</td>\n      <td>0.038046</td>\n      <td>-0.927796</td>\n    </tr>\n    <tr>\n      <th>4</th>\n      <td>1013</td>\n      <td>10</td>\n      <td>0.038046</td>\n      <td>-0.927796</td>\n    </tr>\n    <tr>\n      <th>...</th>\n      <td>...</td>\n      <td>...</td>\n      <td>...</td>\n      <td>...</td>\n    </tr>\n    <tr>\n      <th>831</th>\n      <td>95</td>\n      <td>9</td>\n      <td>-0.146531</td>\n      <td>-0.756362</td>\n    </tr>\n    <tr>\n      <th>832</th>\n      <td>96</td>\n      <td>9</td>\n      <td>0.987913</td>\n      <td>0.625396</td>\n    </tr>\n    <tr>\n      <th>833</th>\n      <td>97</td>\n      <td>9</td>\n      <td>0.987913</td>\n      <td>0.625396</td>\n    </tr>\n    <tr>\n      <th>834</th>\n      <td>98</td>\n      <td>9</td>\n      <td>1.768584</td>\n      <td>-0.554533</td>\n    </tr>\n    <tr>\n      <th>835</th>\n      <td>99</td>\n      <td>9</td>\n      <td>0.987913</td>\n      <td>0.625396</td>\n    </tr>\n  </tbody>\n</table>\n<p>836 rows × 4 columns</p>\n</div>"
     },
     "metadata": {},
     "execution_count": 8
    }
   ],
   "source": [
    "gt_pca = pd.read_json('gt_pca.json')\n",
    "gt_pca"
   ]
  },
  {
   "cell_type": "code",
   "execution_count": 1,
   "metadata": {
    "tags": []
   },
   "outputs": [
    {
     "output_type": "execute_result",
     "data": {
      "text/plain": [
       "          y       x  Height   Width ImageId PersonId       Label     x_r  \\\n",
       "0     427.0   288.0   650.0   672.0    37_9       37   cloudSign     0.0   \n",
       "1     335.0  2842.0  2634.0   730.0    37_9       37  noisemaker     0.0   \n",
       "2     335.0  3223.0  2664.0   763.0    37_9       37  noisemaker     0.0   \n",
       "3     298.0  1038.0   888.0  1000.0    37_9       37  paperPlate     0.0   \n",
       "4     642.0  2062.0   488.0   688.0    37_9       37  partyFavor     0.0   \n",
       "...     ...     ...     ...     ...     ...      ...         ...     ...   \n",
       "5534    0.0     0.0     0.0     0.0   40_10       40    birdCall  1055.0   \n",
       "5535    0.0     0.0     0.0     0.0   40_10       40   cloudSign  1884.0   \n",
       "5536    0.0     0.0     0.0     0.0   40_10       40  redWhistle   847.0   \n",
       "5537    0.0     0.0     0.0     0.0   40_10       40    hairClip  1279.0   \n",
       "5538    0.0     0.0     0.0     0.0   40_10       40   yellowBag    18.0   \n",
       "\n",
       "         y_r  Width_r  Height_r    Score  \n",
       "0        0.0      0.0       0.0  0.00000  \n",
       "1        0.0      0.0       0.0  0.00000  \n",
       "2        0.0      0.0       0.0  0.00000  \n",
       "3        0.0      0.0       0.0  0.00000  \n",
       "4        0.0      0.0       0.0  0.00000  \n",
       "...      ...      ...       ...      ...  \n",
       "5534   795.0   1953.0    1602.0  0.30762  \n",
       "5535  1176.0    985.0    1291.0  0.30588  \n",
       "5536  1556.0   1590.0    1544.0  0.58092  \n",
       "5537   957.0   1521.0    1371.0  0.48834  \n",
       "5538  1222.0   2074.0    2247.0  0.25895  \n",
       "\n",
       "[5539 rows x 12 columns]"
      ],
      "text/html": "<div>\n<style scoped>\n    .dataframe tbody tr th:only-of-type {\n        vertical-align: middle;\n    }\n\n    .dataframe tbody tr th {\n        vertical-align: top;\n    }\n\n    .dataframe thead th {\n        text-align: right;\n    }\n</style>\n<table border=\"1\" class=\"dataframe\">\n  <thead>\n    <tr style=\"text-align: right;\">\n      <th></th>\n      <th>y</th>\n      <th>x</th>\n      <th>Height</th>\n      <th>Width</th>\n      <th>ImageId</th>\n      <th>PersonId</th>\n      <th>Label</th>\n      <th>x_r</th>\n      <th>y_r</th>\n      <th>Width_r</th>\n      <th>Height_r</th>\n      <th>Score</th>\n    </tr>\n  </thead>\n  <tbody>\n    <tr>\n      <th>0</th>\n      <td>427.0</td>\n      <td>288.0</td>\n      <td>650.0</td>\n      <td>672.0</td>\n      <td>37_9</td>\n      <td>37</td>\n      <td>cloudSign</td>\n      <td>0.0</td>\n      <td>0.0</td>\n      <td>0.0</td>\n      <td>0.0</td>\n      <td>0.00000</td>\n    </tr>\n    <tr>\n      <th>1</th>\n      <td>335.0</td>\n      <td>2842.0</td>\n      <td>2634.0</td>\n      <td>730.0</td>\n      <td>37_9</td>\n      <td>37</td>\n      <td>noisemaker</td>\n      <td>0.0</td>\n      <td>0.0</td>\n      <td>0.0</td>\n      <td>0.0</td>\n      <td>0.00000</td>\n    </tr>\n    <tr>\n      <th>2</th>\n      <td>335.0</td>\n      <td>3223.0</td>\n      <td>2664.0</td>\n      <td>763.0</td>\n      <td>37_9</td>\n      <td>37</td>\n      <td>noisemaker</td>\n      <td>0.0</td>\n      <td>0.0</td>\n      <td>0.0</td>\n      <td>0.0</td>\n      <td>0.00000</td>\n    </tr>\n    <tr>\n      <th>3</th>\n      <td>298.0</td>\n      <td>1038.0</td>\n      <td>888.0</td>\n      <td>1000.0</td>\n      <td>37_9</td>\n      <td>37</td>\n      <td>paperPlate</td>\n      <td>0.0</td>\n      <td>0.0</td>\n      <td>0.0</td>\n      <td>0.0</td>\n      <td>0.00000</td>\n    </tr>\n    <tr>\n      <th>4</th>\n      <td>642.0</td>\n      <td>2062.0</td>\n      <td>488.0</td>\n      <td>688.0</td>\n      <td>37_9</td>\n      <td>37</td>\n      <td>partyFavor</td>\n      <td>0.0</td>\n      <td>0.0</td>\n      <td>0.0</td>\n      <td>0.0</td>\n      <td>0.00000</td>\n    </tr>\n    <tr>\n      <th>...</th>\n      <td>...</td>\n      <td>...</td>\n      <td>...</td>\n      <td>...</td>\n      <td>...</td>\n      <td>...</td>\n      <td>...</td>\n      <td>...</td>\n      <td>...</td>\n      <td>...</td>\n      <td>...</td>\n      <td>...</td>\n    </tr>\n    <tr>\n      <th>5534</th>\n      <td>0.0</td>\n      <td>0.0</td>\n      <td>0.0</td>\n      <td>0.0</td>\n      <td>40_10</td>\n      <td>40</td>\n      <td>birdCall</td>\n      <td>1055.0</td>\n      <td>795.0</td>\n      <td>1953.0</td>\n      <td>1602.0</td>\n      <td>0.30762</td>\n    </tr>\n    <tr>\n      <th>5535</th>\n      <td>0.0</td>\n      <td>0.0</td>\n      <td>0.0</td>\n      <td>0.0</td>\n      <td>40_10</td>\n      <td>40</td>\n      <td>cloudSign</td>\n      <td>1884.0</td>\n      <td>1176.0</td>\n      <td>985.0</td>\n      <td>1291.0</td>\n      <td>0.30588</td>\n    </tr>\n    <tr>\n      <th>5536</th>\n      <td>0.0</td>\n      <td>0.0</td>\n      <td>0.0</td>\n      <td>0.0</td>\n      <td>40_10</td>\n      <td>40</td>\n      <td>redWhistle</td>\n      <td>847.0</td>\n      <td>1556.0</td>\n      <td>1590.0</td>\n      <td>1544.0</td>\n      <td>0.58092</td>\n    </tr>\n    <tr>\n      <th>5537</th>\n      <td>0.0</td>\n      <td>0.0</td>\n      <td>0.0</td>\n      <td>0.0</td>\n      <td>40_10</td>\n      <td>40</td>\n      <td>hairClip</td>\n      <td>1279.0</td>\n      <td>957.0</td>\n      <td>1521.0</td>\n      <td>1371.0</td>\n      <td>0.48834</td>\n    </tr>\n    <tr>\n      <th>5538</th>\n      <td>0.0</td>\n      <td>0.0</td>\n      <td>0.0</td>\n      <td>0.0</td>\n      <td>40_10</td>\n      <td>40</td>\n      <td>yellowBag</td>\n      <td>18.0</td>\n      <td>1222.0</td>\n      <td>2074.0</td>\n      <td>2247.0</td>\n      <td>0.25895</td>\n    </tr>\n  </tbody>\n</table>\n<p>5539 rows × 12 columns</p>\n</div>"
     },
     "metadata": {},
     "execution_count": 1
    }
   ],
   "source": [
    "#Concat Ground Truth and Origin Data\n",
    "\n",
    "import pandas as pd\n",
    "import numpy as np\n",
    "\n",
    "Ori_df = pd.read_json('FineData.json', dtype=False)\n",
    "Gt_df = pd.read_json('gt.json', dtype=False)\n",
    "\n",
    "Ori_df.columns = ['x_r', 'y_r', 'Width_r', 'Height_r', 'Score', 'Label', 'PersonId', 'ImageId']\n",
    "MergeDF = pd.merge(Gt_df, Ori_df, how='outer', on=['PersonId', 'ImageId', 'Label']).replace(np.nan, 0)\n",
    "\n",
    "MergeDF\n"
   ]
  },
  {
   "cell_type": "code",
   "execution_count": 2,
   "metadata": {},
   "outputs": [
    {
     "output_type": "execute_result",
     "data": {
      "text/plain": [
       "0       1.661556\n",
       "1       0.165497\n",
       "2       0.155180\n",
       "3       0.443741\n",
       "4       4.313389\n",
       "          ...   \n",
       "5534    0.095675\n",
       "5535    0.273402\n",
       "5536    0.125201\n",
       "5537    0.150722\n",
       "5538    0.062288\n",
       "Length: 5539, dtype: float64"
      ]
     },
     "metadata": {},
     "execution_count": 2
    }
   ],
   "source": [
    "table = pd.DataFrame(MergeDF['Label'])\n",
    "df = MergeDF\n",
    "\n",
    "def IOU(df):\n",
    "    # determining the minimum and maximum -coordinates of the intersection rectangle\n",
    "    xmin_inter = max(max(df.x), max(df.x_r)) \n",
    "    ymin_inter = max(max(df.y), max(df.y_r))\n",
    "    xmax_inter = min(max(df.x + df.Width), max(df.x_r + df.Width_r))\n",
    "    ymax_inter = min(max(df.y + df.Height), max(df.y_r + df.Height_r))\n",
    " \n",
    "    # calculate area of intersection rectangle\n",
    "    inter_area = max(0, xmax_inter - xmin_inter + 1) * max(0, ymax_inter - ymin_inter + 1)\n",
    " \n",
    "    # calculate area of actual and predicted boxes\n",
    "    actual_area =(df.Width + 1) * (df.Height + 1)\n",
    "    pred_area = (df.Width_r + 1) * (df.Height_r + 1)\n",
    " \n",
    "    # computing intersection over union\n",
    "    iou = inter_area / (actual_area + pred_area - inter_area)\n",
    " \n",
    "    # return the intersection over union value\n",
    "    return iou\n",
    "\n",
    "iouss = IOU(df)\n",
    "iouss"
   ]
  },
  {
   "cell_type": "code",
   "execution_count": null,
   "metadata": {},
   "outputs": [],
   "source": []
  }
 ]
}