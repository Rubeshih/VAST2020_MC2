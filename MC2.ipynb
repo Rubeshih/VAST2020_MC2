{
 "metadata": {
  "language_info": {
   "codemirror_mode": {
    "name": "ipython",
    "version": 3
   },
   "file_extension": ".py",
   "mimetype": "text/x-python",
   "name": "python",
   "nbconvert_exporter": "python",
   "pygments_lexer": "ipython3",
   "version": "3.8.2-final"
  },
  "orig_nbformat": 2,
  "kernelspec": {
   "name": "Python 3.8.2 64-bit ('myvenv')",
   "display_name": "Python 3.8.2 64-bit ('myvenv')",
   "metadata": {
    "interpreter": {
     "hash": "c448392b90dbbf574ef5fa0e52457b90caeebfd577fdcbc0fc2325c4be8931ef"
    }
   }
  }
 },
 "nbformat": 4,
 "nbformat_minor": 2,
 "cells": [
  {
   "cell_type": "code",
   "execution_count": 1,
   "metadata": {},
   "outputs": [],
   "source": [
    "#READ_CSV, READ_TEXT, Import Pandas, os\n",
    "\n",
    "import pandas as pd\n",
    "import os\n",
    "\n",
    "def read_csv(path):\n",
    "    df = pd.read_csv(path, encoding='unicode_escape')\n",
    "    df['PersonID'] = os.path.split(path)[1].split('_')[0][6:]\n",
    "    df['ImageID'] = os.path.split(path)[1].split('.')[0][6:]\n",
    "    return df\n",
    "\n",
    "#只有 Text 跟 Caption 會用\n",
    "def read_text(path, colName):\n",
    "    df = pd.read_csv(path, sep='\\t', encoding='unicode_escape', names=[colName])\n",
    "    filename = os.path.split(path)[1]\n",
    "    if 'text' in filename:\n",
    "        df['TextID'] = filename[6:-4]\n",
    "    else:\n",
    "        df['ImageID'] = os.path.split(path)[1].split('.')[0][6:-7]\n",
    "    return df\n",
    "\n",
    "def load_FineData():\n",
    "    return pd.read_csv('FineData.csv', encoding='unicode_escape')\n"
   ]
  },
  {
   "cell_type": "code",
   "execution_count": 2,
   "metadata": {},
   "outputs": [],
   "source": [
    "#Reading all file\n",
    "\n",
    "DataPath = 'MC2-Image-Data/'\n",
    "\n",
    "#Full DataPaths\n",
    "CsvList = []\n",
    "#ImageList = [] \n",
    "CapList = [] \n",
    "TextList = []\n",
    "\n",
    "#ImagesNames = []\n",
    "\n",
    "for r, d, files in os.walk(DataPath):\n",
    "\n",
    "    if 'TrainingImages' in r:\n",
    "            continue\n",
    "\n",
    "    for _file in files:\n",
    "\n",
    "        if _file.endswith('.csv'):\n",
    "            CsvList.append(r + '/' + _file)\n",
    "        #elif _file.endswith('.jpg'):\n",
    "        #    ImageList.append(r + '/' +_file)\n",
    "        #    ImagesNames.append(_file)\n",
    "        elif 'caption.txt' in _file:\n",
    "            CapList.append(r + '/' +_file)\n",
    "        elif 'text' in _file:\n",
    "            TextList.append(r + '/' +_file)"
   ]
  },
  {
   "cell_type": "code",
   "execution_count": 3,
   "metadata": {},
   "outputs": [],
   "source": [
    "# Make Caption/Text/Csv DataFrame\n",
    "\n",
    "tmp = []\n",
    "for path in CapList:\n",
    "    tmp.append(read_text(path, 'Caption'))\n",
    "\n",
    "cap_df = pd.concat(tmp, ignore_index=True)\n",
    "\n",
    "tmp = []\n",
    "for path in TextList:\n",
    "    tmp.append(read_text(path, 'Text'))\n",
    "\n",
    "text_df = pd.concat(tmp, ignore_index=True)\n",
    "\n",
    "tmp = []\n",
    "for path in CsvList:\n",
    "    tmp.append(read_csv(path))\n",
    "\n",
    "csv_df = pd.concat(tmp, ignore_index=True)"
   ]
  },
  {
   "cell_type": "code",
   "execution_count": 4,
   "metadata": {},
   "outputs": [
    {
     "output_type": "execute_result",
     "data": {
      "text/plain": [
       "         x     y Width Height    Score           Label PersonID ImageID\n",
       "0     1479    11  1922   1583  0.33861        birdCall        1     1_1\n",
       "1     2554   313   955    888  0.28139         eyeball        1     1_1\n",
       "2     1855  1724   578   1079  0.34569      pinkCandle        1     1_1\n",
       "3       14   666  1465   2309  0.42683    pumpkinNotes        1     1_1\n",
       "4     1560  1301  1197    615  0.32564  blueSunglasses        1     1_1\n",
       "...    ...   ...   ...    ...      ...             ...      ...     ...\n",
       "4486  1055   795  1953   1602  0.30762        birdCall       40   40_10\n",
       "4487  1884  1176   985   1291  0.30588       cloudSign       40   40_10\n",
       "4488   847  1556  1590   1544  0.58092      redWhistle       40   40_10\n",
       "4489  1279   957  1521   1371  0.48834        hairClip       40   40_10\n",
       "4490    18  1222  2074   2247  0.25895       yellowBag       40   40_10\n",
       "\n",
       "[4491 rows x 8 columns]"
      ],
      "text/html": "<div>\n<style scoped>\n    .dataframe tbody tr th:only-of-type {\n        vertical-align: middle;\n    }\n\n    .dataframe tbody tr th {\n        vertical-align: top;\n    }\n\n    .dataframe thead th {\n        text-align: right;\n    }\n</style>\n<table border=\"1\" class=\"dataframe\">\n  <thead>\n    <tr style=\"text-align: right;\">\n      <th></th>\n      <th>x</th>\n      <th>y</th>\n      <th>Width</th>\n      <th>Height</th>\n      <th>Score</th>\n      <th>Label</th>\n      <th>PersonID</th>\n      <th>ImageID</th>\n    </tr>\n  </thead>\n  <tbody>\n    <tr>\n      <th>0</th>\n      <td>1479</td>\n      <td>11</td>\n      <td>1922</td>\n      <td>1583</td>\n      <td>0.33861</td>\n      <td>birdCall</td>\n      <td>1</td>\n      <td>1_1</td>\n    </tr>\n    <tr>\n      <th>1</th>\n      <td>2554</td>\n      <td>313</td>\n      <td>955</td>\n      <td>888</td>\n      <td>0.28139</td>\n      <td>eyeball</td>\n      <td>1</td>\n      <td>1_1</td>\n    </tr>\n    <tr>\n      <th>2</th>\n      <td>1855</td>\n      <td>1724</td>\n      <td>578</td>\n      <td>1079</td>\n      <td>0.34569</td>\n      <td>pinkCandle</td>\n      <td>1</td>\n      <td>1_1</td>\n    </tr>\n    <tr>\n      <th>3</th>\n      <td>14</td>\n      <td>666</td>\n      <td>1465</td>\n      <td>2309</td>\n      <td>0.42683</td>\n      <td>pumpkinNotes</td>\n      <td>1</td>\n      <td>1_1</td>\n    </tr>\n    <tr>\n      <th>4</th>\n      <td>1560</td>\n      <td>1301</td>\n      <td>1197</td>\n      <td>615</td>\n      <td>0.32564</td>\n      <td>blueSunglasses</td>\n      <td>1</td>\n      <td>1_1</td>\n    </tr>\n    <tr>\n      <th>...</th>\n      <td>...</td>\n      <td>...</td>\n      <td>...</td>\n      <td>...</td>\n      <td>...</td>\n      <td>...</td>\n      <td>...</td>\n      <td>...</td>\n    </tr>\n    <tr>\n      <th>4486</th>\n      <td>1055</td>\n      <td>795</td>\n      <td>1953</td>\n      <td>1602</td>\n      <td>0.30762</td>\n      <td>birdCall</td>\n      <td>40</td>\n      <td>40_10</td>\n    </tr>\n    <tr>\n      <th>4487</th>\n      <td>1884</td>\n      <td>1176</td>\n      <td>985</td>\n      <td>1291</td>\n      <td>0.30588</td>\n      <td>cloudSign</td>\n      <td>40</td>\n      <td>40_10</td>\n    </tr>\n    <tr>\n      <th>4488</th>\n      <td>847</td>\n      <td>1556</td>\n      <td>1590</td>\n      <td>1544</td>\n      <td>0.58092</td>\n      <td>redWhistle</td>\n      <td>40</td>\n      <td>40_10</td>\n    </tr>\n    <tr>\n      <th>4489</th>\n      <td>1279</td>\n      <td>957</td>\n      <td>1521</td>\n      <td>1371</td>\n      <td>0.48834</td>\n      <td>hairClip</td>\n      <td>40</td>\n      <td>40_10</td>\n    </tr>\n    <tr>\n      <th>4490</th>\n      <td>18</td>\n      <td>1222</td>\n      <td>2074</td>\n      <td>2247</td>\n      <td>0.25895</td>\n      <td>yellowBag</td>\n      <td>40</td>\n      <td>40_10</td>\n    </tr>\n  </tbody>\n</table>\n<p>4491 rows × 8 columns</p>\n</div>"
     },
     "metadata": {},
     "execution_count": 4
    }
   ],
   "source": [
    "# Sort by Simply ImageID\n",
    "csv_df['Sort'] = csv_df['ImageID'].apply(lambda x : int(x.replace('_', \"\"))) \n",
    "csv_df = csv_df.sort_values(by='Sort', ignore_index=True)\n",
    "csv_df = csv_df.drop(columns = ['Sort'])\n",
    "csv_df\n",
    "\n"
   ]
  },
  {
   "cell_type": "code",
   "execution_count": 5,
   "metadata": {},
   "outputs": [
    {
     "output_type": "execute_result",
     "data": {
      "text/plain": [
       "         x     y Width Height    Score           Label PersonID ImageID\n",
       "0     1479    11  1922   1583  0.33861        birdCall        1     1_1\n",
       "1     2554   313   955    888  0.28139         eyeball        1     1_1\n",
       "2     1855  1724   578   1079  0.34569      pinkCandle        1     1_1\n",
       "3       14   666  1465   2309  0.42683    pumpkinNotes        1     1_1\n",
       "4     1560  1301  1197    615  0.32564  blueSunglasses        1     1_1\n",
       "...    ...   ...   ...    ...      ...             ...      ...     ...\n",
       "4486  1055   795  1953   1602  0.30762        birdCall       40   40_10\n",
       "4487  1884  1176   985   1291  0.30588       cloudSign       40   40_10\n",
       "4488   847  1556  1590   1544  0.58092      redWhistle       40   40_10\n",
       "4489  1279   957  1521   1371  0.48834        hairClip       40   40_10\n",
       "4490    18  1222  2074   2247  0.25895       yellowBag       40   40_10\n",
       "\n",
       "[4491 rows x 8 columns]"
      ],
      "text/html": "<div>\n<style scoped>\n    .dataframe tbody tr th:only-of-type {\n        vertical-align: middle;\n    }\n\n    .dataframe tbody tr th {\n        vertical-align: top;\n    }\n\n    .dataframe thead th {\n        text-align: right;\n    }\n</style>\n<table border=\"1\" class=\"dataframe\">\n  <thead>\n    <tr style=\"text-align: right;\">\n      <th></th>\n      <th>x</th>\n      <th>y</th>\n      <th>Width</th>\n      <th>Height</th>\n      <th>Score</th>\n      <th>Label</th>\n      <th>PersonID</th>\n      <th>ImageID</th>\n    </tr>\n  </thead>\n  <tbody>\n    <tr>\n      <th>0</th>\n      <td>1479</td>\n      <td>11</td>\n      <td>1922</td>\n      <td>1583</td>\n      <td>0.33861</td>\n      <td>birdCall</td>\n      <td>1</td>\n      <td>1_1</td>\n    </tr>\n    <tr>\n      <th>1</th>\n      <td>2554</td>\n      <td>313</td>\n      <td>955</td>\n      <td>888</td>\n      <td>0.28139</td>\n      <td>eyeball</td>\n      <td>1</td>\n      <td>1_1</td>\n    </tr>\n    <tr>\n      <th>2</th>\n      <td>1855</td>\n      <td>1724</td>\n      <td>578</td>\n      <td>1079</td>\n      <td>0.34569</td>\n      <td>pinkCandle</td>\n      <td>1</td>\n      <td>1_1</td>\n    </tr>\n    <tr>\n      <th>3</th>\n      <td>14</td>\n      <td>666</td>\n      <td>1465</td>\n      <td>2309</td>\n      <td>0.42683</td>\n      <td>pumpkinNotes</td>\n      <td>1</td>\n      <td>1_1</td>\n    </tr>\n    <tr>\n      <th>4</th>\n      <td>1560</td>\n      <td>1301</td>\n      <td>1197</td>\n      <td>615</td>\n      <td>0.32564</td>\n      <td>blueSunglasses</td>\n      <td>1</td>\n      <td>1_1</td>\n    </tr>\n    <tr>\n      <th>...</th>\n      <td>...</td>\n      <td>...</td>\n      <td>...</td>\n      <td>...</td>\n      <td>...</td>\n      <td>...</td>\n      <td>...</td>\n      <td>...</td>\n    </tr>\n    <tr>\n      <th>4486</th>\n      <td>1055</td>\n      <td>795</td>\n      <td>1953</td>\n      <td>1602</td>\n      <td>0.30762</td>\n      <td>birdCall</td>\n      <td>40</td>\n      <td>40_10</td>\n    </tr>\n    <tr>\n      <th>4487</th>\n      <td>1884</td>\n      <td>1176</td>\n      <td>985</td>\n      <td>1291</td>\n      <td>0.30588</td>\n      <td>cloudSign</td>\n      <td>40</td>\n      <td>40_10</td>\n    </tr>\n    <tr>\n      <th>4488</th>\n      <td>847</td>\n      <td>1556</td>\n      <td>1590</td>\n      <td>1544</td>\n      <td>0.58092</td>\n      <td>redWhistle</td>\n      <td>40</td>\n      <td>40_10</td>\n    </tr>\n    <tr>\n      <th>4489</th>\n      <td>1279</td>\n      <td>957</td>\n      <td>1521</td>\n      <td>1371</td>\n      <td>0.48834</td>\n      <td>hairClip</td>\n      <td>40</td>\n      <td>40_10</td>\n    </tr>\n    <tr>\n      <th>4490</th>\n      <td>18</td>\n      <td>1222</td>\n      <td>2074</td>\n      <td>2247</td>\n      <td>0.25895</td>\n      <td>yellowBag</td>\n      <td>40</td>\n      <td>40_10</td>\n    </tr>\n  </tbody>\n</table>\n<p>4491 rows × 8 columns</p>\n</div>"
     },
     "metadata": {},
     "execution_count": 5
    }
   ],
   "source": [
    "# Save Files\n",
    "csv_df.to_csv('FineData.csv', encoding='unicode_escape')\n",
    "csv_df\n"
   ]
  },
  {
   "cell_type": "code",
   "execution_count": 7,
   "metadata": {},
   "outputs": [
    {
     "output_type": "error",
     "ename": "NameError",
     "evalue": "name 'load_FineData' is not defined",
     "traceback": [
      "\u001b[0;31m---------------------------------------------------------------------------\u001b[0m",
      "\u001b[0;31mNameError\u001b[0m                                 Traceback (most recent call last)",
      "\u001b[0;32m<ipython-input-7-0636a08d3fdb>\u001b[0m in \u001b[0;36m<module>\u001b[0;34m\u001b[0m\n\u001b[1;32m      1\u001b[0m \u001b[0;31m# Load csv\u001b[0m\u001b[0;34m\u001b[0m\u001b[0;34m\u001b[0m\u001b[0;34m\u001b[0m\u001b[0m\n\u001b[0;32m----> 2\u001b[0;31m \u001b[0mDf\u001b[0m \u001b[0;34m=\u001b[0m \u001b[0mload_FineData\u001b[0m\u001b[0;34m(\u001b[0m\u001b[0;34m)\u001b[0m\u001b[0;34m\u001b[0m\u001b[0;34m\u001b[0m\u001b[0m\n\u001b[0m\u001b[1;32m      3\u001b[0m \u001b[0mDf\u001b[0m\u001b[0;34m\u001b[0m\u001b[0;34m\u001b[0m\u001b[0m\n",
      "\u001b[0;31mNameError\u001b[0m: name 'load_FineData' is not defined"
     ]
    }
   ],
   "source": [
    "# Load csv\n",
    "Df = load_FineData()\n",
    "Df"
   ]
  },
  {
   "cell_type": "code",
   "execution_count": 9,
   "metadata": {},
   "outputs": [
    {
     "output_type": "error",
     "ename": "ValueError",
     "evalue": "Index contains duplicate entries, cannot reshape",
     "traceback": [
      "\u001b[0;31m---------------------------------------------------------------------------\u001b[0m",
      "\u001b[0;31mValueError\u001b[0m                                Traceback (most recent call last)",
      "\u001b[0;32m<ipython-input-9-256b6da713ae>\u001b[0m in \u001b[0;36m<module>\u001b[0;34m\u001b[0m\n\u001b[0;32m----> 1\u001b[0;31m \u001b[0mpivot\u001b[0m \u001b[0;34m=\u001b[0m \u001b[0mDf\u001b[0m\u001b[0;34m.\u001b[0m\u001b[0mpivot\u001b[0m\u001b[0;34m(\u001b[0m\u001b[0mindex\u001b[0m\u001b[0;34m=\u001b[0m\u001b[0;34m'ImageID'\u001b[0m\u001b[0;34m,\u001b[0m \u001b[0mcolumns\u001b[0m\u001b[0;34m=\u001b[0m\u001b[0;34m'Label'\u001b[0m\u001b[0;34m,\u001b[0m \u001b[0mvalues\u001b[0m\u001b[0;34m=\u001b[0m\u001b[0;34m'Score'\u001b[0m\u001b[0;34m)\u001b[0m\u001b[0;34m\u001b[0m\u001b[0;34m\u001b[0m\u001b[0m\n\u001b[0m\u001b[1;32m      2\u001b[0m \u001b[0mpivot\u001b[0m\u001b[0;34m\u001b[0m\u001b[0;34m\u001b[0m\u001b[0m\n",
      "\u001b[0;32m~/Documents/MC2/myvenv/lib/python3.8/site-packages/pandas/core/frame.py\u001b[0m in \u001b[0;36mpivot\u001b[0;34m(self, index, columns, values)\u001b[0m\n\u001b[1;32m   6672\u001b[0m         \u001b[0;32mfrom\u001b[0m \u001b[0mpandas\u001b[0m\u001b[0;34m.\u001b[0m\u001b[0mcore\u001b[0m\u001b[0;34m.\u001b[0m\u001b[0mreshape\u001b[0m\u001b[0;34m.\u001b[0m\u001b[0mpivot\u001b[0m \u001b[0;32mimport\u001b[0m \u001b[0mpivot\u001b[0m\u001b[0;34m\u001b[0m\u001b[0;34m\u001b[0m\u001b[0m\n\u001b[1;32m   6673\u001b[0m \u001b[0;34m\u001b[0m\u001b[0m\n\u001b[0;32m-> 6674\u001b[0;31m         \u001b[0;32mreturn\u001b[0m \u001b[0mpivot\u001b[0m\u001b[0;34m(\u001b[0m\u001b[0mself\u001b[0m\u001b[0;34m,\u001b[0m \u001b[0mindex\u001b[0m\u001b[0;34m=\u001b[0m\u001b[0mindex\u001b[0m\u001b[0;34m,\u001b[0m \u001b[0mcolumns\u001b[0m\u001b[0;34m=\u001b[0m\u001b[0mcolumns\u001b[0m\u001b[0;34m,\u001b[0m \u001b[0mvalues\u001b[0m\u001b[0;34m=\u001b[0m\u001b[0mvalues\u001b[0m\u001b[0;34m)\u001b[0m\u001b[0;34m\u001b[0m\u001b[0;34m\u001b[0m\u001b[0m\n\u001b[0m\u001b[1;32m   6675\u001b[0m \u001b[0;34m\u001b[0m\u001b[0m\n\u001b[1;32m   6676\u001b[0m     _shared_docs[\n",
      "\u001b[0;32m~/Documents/MC2/myvenv/lib/python3.8/site-packages/pandas/core/reshape/pivot.py\u001b[0m in \u001b[0;36mpivot\u001b[0;34m(data, index, columns, values)\u001b[0m\n\u001b[1;32m    475\u001b[0m         \u001b[0;32melse\u001b[0m\u001b[0;34m:\u001b[0m\u001b[0;34m\u001b[0m\u001b[0;34m\u001b[0m\u001b[0m\n\u001b[1;32m    476\u001b[0m             \u001b[0mindexed\u001b[0m \u001b[0;34m=\u001b[0m \u001b[0mdata\u001b[0m\u001b[0;34m.\u001b[0m\u001b[0m_constructor_sliced\u001b[0m\u001b[0;34m(\u001b[0m\u001b[0mdata\u001b[0m\u001b[0;34m[\u001b[0m\u001b[0mvalues\u001b[0m\u001b[0;34m]\u001b[0m\u001b[0;34m.\u001b[0m\u001b[0m_values\u001b[0m\u001b[0;34m,\u001b[0m \u001b[0mindex\u001b[0m\u001b[0;34m=\u001b[0m\u001b[0mindex\u001b[0m\u001b[0;34m)\u001b[0m\u001b[0;34m\u001b[0m\u001b[0;34m\u001b[0m\u001b[0m\n\u001b[0;32m--> 477\u001b[0;31m     \u001b[0;32mreturn\u001b[0m \u001b[0mindexed\u001b[0m\u001b[0;34m.\u001b[0m\u001b[0munstack\u001b[0m\u001b[0;34m(\u001b[0m\u001b[0mcolumns\u001b[0m\u001b[0;34m)\u001b[0m\u001b[0;34m\u001b[0m\u001b[0;34m\u001b[0m\u001b[0m\n\u001b[0m\u001b[1;32m    478\u001b[0m \u001b[0;34m\u001b[0m\u001b[0m\n\u001b[1;32m    479\u001b[0m \u001b[0;34m\u001b[0m\u001b[0m\n",
      "\u001b[0;32m~/Documents/MC2/myvenv/lib/python3.8/site-packages/pandas/core/series.py\u001b[0m in \u001b[0;36munstack\u001b[0;34m(self, level, fill_value)\u001b[0m\n\u001b[1;32m   3888\u001b[0m         \u001b[0;32mfrom\u001b[0m \u001b[0mpandas\u001b[0m\u001b[0;34m.\u001b[0m\u001b[0mcore\u001b[0m\u001b[0;34m.\u001b[0m\u001b[0mreshape\u001b[0m\u001b[0;34m.\u001b[0m\u001b[0mreshape\u001b[0m \u001b[0;32mimport\u001b[0m \u001b[0munstack\u001b[0m\u001b[0;34m\u001b[0m\u001b[0;34m\u001b[0m\u001b[0m\n\u001b[1;32m   3889\u001b[0m \u001b[0;34m\u001b[0m\u001b[0m\n\u001b[0;32m-> 3890\u001b[0;31m         \u001b[0;32mreturn\u001b[0m \u001b[0munstack\u001b[0m\u001b[0;34m(\u001b[0m\u001b[0mself\u001b[0m\u001b[0;34m,\u001b[0m \u001b[0mlevel\u001b[0m\u001b[0;34m,\u001b[0m \u001b[0mfill_value\u001b[0m\u001b[0;34m)\u001b[0m\u001b[0;34m\u001b[0m\u001b[0;34m\u001b[0m\u001b[0m\n\u001b[0m\u001b[1;32m   3891\u001b[0m \u001b[0;34m\u001b[0m\u001b[0m\n\u001b[1;32m   3892\u001b[0m     \u001b[0;31m# ----------------------------------------------------------------------\u001b[0m\u001b[0;34m\u001b[0m\u001b[0;34m\u001b[0m\u001b[0;34m\u001b[0m\u001b[0m\n",
      "\u001b[0;32m~/Documents/MC2/myvenv/lib/python3.8/site-packages/pandas/core/reshape/reshape.py\u001b[0m in \u001b[0;36munstack\u001b[0;34m(obj, level, fill_value)\u001b[0m\n\u001b[1;32m    422\u001b[0m         \u001b[0;32mif\u001b[0m \u001b[0mis_extension_array_dtype\u001b[0m\u001b[0;34m(\u001b[0m\u001b[0mobj\u001b[0m\u001b[0;34m.\u001b[0m\u001b[0mdtype\u001b[0m\u001b[0;34m)\u001b[0m\u001b[0;34m:\u001b[0m\u001b[0;34m\u001b[0m\u001b[0;34m\u001b[0m\u001b[0m\n\u001b[1;32m    423\u001b[0m             \u001b[0;32mreturn\u001b[0m \u001b[0m_unstack_extension_series\u001b[0m\u001b[0;34m(\u001b[0m\u001b[0mobj\u001b[0m\u001b[0;34m,\u001b[0m \u001b[0mlevel\u001b[0m\u001b[0;34m,\u001b[0m \u001b[0mfill_value\u001b[0m\u001b[0;34m)\u001b[0m\u001b[0;34m\u001b[0m\u001b[0;34m\u001b[0m\u001b[0m\n\u001b[0;32m--> 424\u001b[0;31m         unstacker = _Unstacker(\n\u001b[0m\u001b[1;32m    425\u001b[0m             \u001b[0mobj\u001b[0m\u001b[0;34m.\u001b[0m\u001b[0mindex\u001b[0m\u001b[0;34m,\u001b[0m \u001b[0mlevel\u001b[0m\u001b[0;34m=\u001b[0m\u001b[0mlevel\u001b[0m\u001b[0;34m,\u001b[0m \u001b[0mconstructor\u001b[0m\u001b[0;34m=\u001b[0m\u001b[0mobj\u001b[0m\u001b[0;34m.\u001b[0m\u001b[0m_constructor_expanddim\u001b[0m\u001b[0;34m,\u001b[0m\u001b[0;34m\u001b[0m\u001b[0;34m\u001b[0m\u001b[0m\n\u001b[1;32m    426\u001b[0m         )\n",
      "\u001b[0;32m~/Documents/MC2/myvenv/lib/python3.8/site-packages/pandas/core/reshape/reshape.py\u001b[0m in \u001b[0;36m__init__\u001b[0;34m(self, index, level, constructor)\u001b[0m\n\u001b[1;32m    118\u001b[0m             \u001b[0;32mraise\u001b[0m \u001b[0mValueError\u001b[0m\u001b[0;34m(\u001b[0m\u001b[0;34m\"Unstacked DataFrame is too big, causing int32 overflow\"\u001b[0m\u001b[0;34m)\u001b[0m\u001b[0;34m\u001b[0m\u001b[0;34m\u001b[0m\u001b[0m\n\u001b[1;32m    119\u001b[0m \u001b[0;34m\u001b[0m\u001b[0m\n\u001b[0;32m--> 120\u001b[0;31m         \u001b[0mself\u001b[0m\u001b[0;34m.\u001b[0m\u001b[0m_make_selectors\u001b[0m\u001b[0;34m(\u001b[0m\u001b[0;34m)\u001b[0m\u001b[0;34m\u001b[0m\u001b[0;34m\u001b[0m\u001b[0m\n\u001b[0m\u001b[1;32m    121\u001b[0m \u001b[0;34m\u001b[0m\u001b[0m\n\u001b[1;32m    122\u001b[0m     \u001b[0;34m@\u001b[0m\u001b[0mcache_readonly\u001b[0m\u001b[0;34m\u001b[0m\u001b[0;34m\u001b[0m\u001b[0m\n",
      "\u001b[0;32m~/Documents/MC2/myvenv/lib/python3.8/site-packages/pandas/core/reshape/reshape.py\u001b[0m in \u001b[0;36m_make_selectors\u001b[0;34m(self)\u001b[0m\n\u001b[1;32m    167\u001b[0m \u001b[0;34m\u001b[0m\u001b[0m\n\u001b[1;32m    168\u001b[0m         \u001b[0;32mif\u001b[0m \u001b[0mmask\u001b[0m\u001b[0;34m.\u001b[0m\u001b[0msum\u001b[0m\u001b[0;34m(\u001b[0m\u001b[0;34m)\u001b[0m \u001b[0;34m<\u001b[0m \u001b[0mlen\u001b[0m\u001b[0;34m(\u001b[0m\u001b[0mself\u001b[0m\u001b[0;34m.\u001b[0m\u001b[0mindex\u001b[0m\u001b[0;34m)\u001b[0m\u001b[0;34m:\u001b[0m\u001b[0;34m\u001b[0m\u001b[0;34m\u001b[0m\u001b[0m\n\u001b[0;32m--> 169\u001b[0;31m             \u001b[0;32mraise\u001b[0m \u001b[0mValueError\u001b[0m\u001b[0;34m(\u001b[0m\u001b[0;34m\"Index contains duplicate entries, cannot reshape\"\u001b[0m\u001b[0;34m)\u001b[0m\u001b[0;34m\u001b[0m\u001b[0;34m\u001b[0m\u001b[0m\n\u001b[0m\u001b[1;32m    170\u001b[0m \u001b[0;34m\u001b[0m\u001b[0m\n\u001b[1;32m    171\u001b[0m         \u001b[0mself\u001b[0m\u001b[0;34m.\u001b[0m\u001b[0mgroup_index\u001b[0m \u001b[0;34m=\u001b[0m \u001b[0mcomp_index\u001b[0m\u001b[0;34m\u001b[0m\u001b[0;34m\u001b[0m\u001b[0m\n",
      "\u001b[0;31mValueError\u001b[0m: Index contains duplicate entries, cannot reshape"
     ]
    }
   ],
   "source": [
    "pivot = Df.pivot(index='ImageID', columns='Label', values='Score')\n",
    "pivot"
   ]
  },
  {
   "cell_type": "code",
   "execution_count": null,
   "metadata": {},
   "outputs": [],
   "source": []
  }
 ]
}