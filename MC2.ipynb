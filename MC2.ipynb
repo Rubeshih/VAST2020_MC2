{
 "metadata": {
  "language_info": {
   "codemirror_mode": {
    "name": "ipython",
    "version": 3
   },
   "file_extension": ".py",
   "mimetype": "text/x-python",
   "name": "python",
   "nbconvert_exporter": "python",
   "pygments_lexer": "ipython3",
   "version": "3.8.2-final"
  },
  "orig_nbformat": 2,
  "kernelspec": {
   "name": "Python 3.8.2 64-bit ('myvenv')",
   "display_name": "Python 3.8.2 64-bit ('myvenv')",
   "metadata": {
    "interpreter": {
     "hash": "c448392b90dbbf574ef5fa0e52457b90caeebfd577fdcbc0fc2325c4be8931ef"
    }
   }
  }
 },
 "nbformat": 4,
 "nbformat_minor": 2,
 "cells": [
  {
   "cell_type": "code",
   "execution_count": 5,
   "metadata": {},
   "outputs": [],
   "source": [
    "#READ_CSV, READ_TEXT, Import Pandas, os\n",
    "\n",
    "import pandas as pd\n",
    "import os\n",
    "\n",
    "def read_csv(path):\n",
    "    df = pd.read_csv(path, encoding='unicode_escape')\n",
    "    df['PersonID'] = os.path.split(path)[1].split('_')[0][6:]\n",
    "    df['ImageID'] = os.path.split(path)[1].split('.')[0][6:]\n",
    "    return df\n",
    "\n",
    "#只有 Text 跟 Caption 會用\n",
    "def read_text(path, colName):\n",
    "    df = pd.read_csv(path, sep='\\t', encoding='unicode_escape', names=[colName])\n",
    "    filename = os.path.split(path)[1]\n",
    "    if 'text' in filename:\n",
    "        df['TextID'] = filename[6:-4]\n",
    "    else:\n",
    "        df['ImageID'] = os.path.split(path)[1].split('.')[0][6:-7]\n",
    "    return df\n",
    "\n",
    "def load_FineJson():\n",
    "    return pd.read_json('FineData', encoding='unicode_escape')\n"
   ]
  },
  {
   "cell_type": "code",
   "execution_count": 2,
   "metadata": {},
   "outputs": [],
   "source": [
    "#Reading all file\n",
    "\n",
    "DataPath = 'MC2-Image-Data/'\n",
    "\n",
    "#Full DataPaths\n",
    "CsvList = []\n",
    "ImageList = []\n",
    "CapList = []\n",
    "TextList = []\n",
    "\n",
    "ImagesNames = []\n",
    "\n",
    "for r, d, files in os.walk(DataPath):\n",
    "\n",
    "    if 'TrainingImages' in r:\n",
    "            continue\n",
    "\n",
    "    for _file in files:\n",
    "\n",
    "        if _file.endswith('.csv'):\n",
    "            CsvList.append(r + '/' + _file)\n",
    "        elif _file.endswith('.jpg'):\n",
    "            ImageList.append(r + '/' +_file)\n",
    "            ImagesNames.append(_file)\n",
    "        elif 'caption.txt' in _file:\n",
    "            CapList.append(r + '/' +_file)\n",
    "        elif 'text' in _file:\n",
    "            TextList.append(r + '/' +_file)"
   ]
  },
  {
   "cell_type": "code",
   "execution_count": 3,
   "metadata": {},
   "outputs": [],
   "source": [
    "# Make Caption/Text/Csv DataFrame\n",
    "\n",
    "tmp = []\n",
    "for path in CapList:\n",
    "    tmp.append(read_text(path, 'Caption'))\n",
    "\n",
    "cap_df = pd.concat(tmp, ignore_index=True)\n",
    "\n",
    "tmp = []\n",
    "for path in TextList:\n",
    "    tmp.append(read_text(path, 'Text'))\n",
    "\n",
    "text_df = pd.concat(tmp, ignore_index=True)\n",
    "\n",
    "tmp = []\n",
    "for path in CsvList:\n",
    "    tmp.append(read_csv(path))\n",
    "\n",
    "csv_df = pd.concat(tmp, ignore_index=True)"
   ]
  },
  {
   "cell_type": "code",
   "execution_count": 4,
   "metadata": {},
   "outputs": [],
   "source": [
    "# Sort by Simply ImageID\n",
    "csv_df['Sort'] = csv_df['ImageID'].apply(lambda x : int(x.replace('_', \"\"))) \n",
    "csv_df = csv_df.sort_values(by='Sort', ignore_index=True)\n",
    "csv_df = csv_df.drop(columns = ['Sort'])\n",
    "\n"
   ]
  },
  {
   "cell_type": "code",
   "execution_count": 5,
   "metadata": {},
   "outputs": [],
   "source": [
    "# Save Files\n",
    "csv_df.to_json('FineData', orient='records')\n"
   ]
  },
  {
   "cell_type": "code",
   "execution_count": 6,
   "metadata": {},
   "outputs": [
    {
     "output_type": "execute_result",
     "data": {
      "text/plain": [
       "         x     y  Width  Height    Score           Label  PersonID  ImageID\n",
       "0     1479    11   1922    1583  0.33861        birdCall         1       11\n",
       "1     2554   313    955     888  0.28139         eyeball         1       11\n",
       "2     1855  1724    578    1079  0.34569      pinkCandle         1       11\n",
       "3       14   666   1465    2309  0.42683    pumpkinNotes         1       11\n",
       "4     1560  1301   1197     615  0.32564  blueSunglasses         1       11\n",
       "...    ...   ...    ...     ...      ...             ...       ...      ...\n",
       "4486  1055   795   1953    1602  0.30762        birdCall        40     4010\n",
       "4487  1884  1176    985    1291  0.30588       cloudSign        40     4010\n",
       "4488   847  1556   1590    1544  0.58092      redWhistle        40     4010\n",
       "4489  1279   957   1521    1371  0.48834        hairClip        40     4010\n",
       "4490    18  1222   2074    2247  0.25895       yellowBag        40     4010\n",
       "\n",
       "[4491 rows x 8 columns]"
      ],
      "text/html": "<div>\n<style scoped>\n    .dataframe tbody tr th:only-of-type {\n        vertical-align: middle;\n    }\n\n    .dataframe tbody tr th {\n        vertical-align: top;\n    }\n\n    .dataframe thead th {\n        text-align: right;\n    }\n</style>\n<table border=\"1\" class=\"dataframe\">\n  <thead>\n    <tr style=\"text-align: right;\">\n      <th></th>\n      <th>x</th>\n      <th>y</th>\n      <th>Width</th>\n      <th>Height</th>\n      <th>Score</th>\n      <th>Label</th>\n      <th>PersonID</th>\n      <th>ImageID</th>\n    </tr>\n  </thead>\n  <tbody>\n    <tr>\n      <th>0</th>\n      <td>1479</td>\n      <td>11</td>\n      <td>1922</td>\n      <td>1583</td>\n      <td>0.33861</td>\n      <td>birdCall</td>\n      <td>1</td>\n      <td>11</td>\n    </tr>\n    <tr>\n      <th>1</th>\n      <td>2554</td>\n      <td>313</td>\n      <td>955</td>\n      <td>888</td>\n      <td>0.28139</td>\n      <td>eyeball</td>\n      <td>1</td>\n      <td>11</td>\n    </tr>\n    <tr>\n      <th>2</th>\n      <td>1855</td>\n      <td>1724</td>\n      <td>578</td>\n      <td>1079</td>\n      <td>0.34569</td>\n      <td>pinkCandle</td>\n      <td>1</td>\n      <td>11</td>\n    </tr>\n    <tr>\n      <th>3</th>\n      <td>14</td>\n      <td>666</td>\n      <td>1465</td>\n      <td>2309</td>\n      <td>0.42683</td>\n      <td>pumpkinNotes</td>\n      <td>1</td>\n      <td>11</td>\n    </tr>\n    <tr>\n      <th>4</th>\n      <td>1560</td>\n      <td>1301</td>\n      <td>1197</td>\n      <td>615</td>\n      <td>0.32564</td>\n      <td>blueSunglasses</td>\n      <td>1</td>\n      <td>11</td>\n    </tr>\n    <tr>\n      <th>...</th>\n      <td>...</td>\n      <td>...</td>\n      <td>...</td>\n      <td>...</td>\n      <td>...</td>\n      <td>...</td>\n      <td>...</td>\n      <td>...</td>\n    </tr>\n    <tr>\n      <th>4486</th>\n      <td>1055</td>\n      <td>795</td>\n      <td>1953</td>\n      <td>1602</td>\n      <td>0.30762</td>\n      <td>birdCall</td>\n      <td>40</td>\n      <td>4010</td>\n    </tr>\n    <tr>\n      <th>4487</th>\n      <td>1884</td>\n      <td>1176</td>\n      <td>985</td>\n      <td>1291</td>\n      <td>0.30588</td>\n      <td>cloudSign</td>\n      <td>40</td>\n      <td>4010</td>\n    </tr>\n    <tr>\n      <th>4488</th>\n      <td>847</td>\n      <td>1556</td>\n      <td>1590</td>\n      <td>1544</td>\n      <td>0.58092</td>\n      <td>redWhistle</td>\n      <td>40</td>\n      <td>4010</td>\n    </tr>\n    <tr>\n      <th>4489</th>\n      <td>1279</td>\n      <td>957</td>\n      <td>1521</td>\n      <td>1371</td>\n      <td>0.48834</td>\n      <td>hairClip</td>\n      <td>40</td>\n      <td>4010</td>\n    </tr>\n    <tr>\n      <th>4490</th>\n      <td>18</td>\n      <td>1222</td>\n      <td>2074</td>\n      <td>2247</td>\n      <td>0.25895</td>\n      <td>yellowBag</td>\n      <td>40</td>\n      <td>4010</td>\n    </tr>\n  </tbody>\n</table>\n<p>4491 rows × 8 columns</p>\n</div>"
     },
     "metadata": {},
     "execution_count": 6
    }
   ],
   "source": [
    "# Load csv\n",
    "Df = load_FineJson()\n",
    "Df"
   ]
  },
  {
   "cell_type": "code",
   "execution_count": null,
   "metadata": {},
   "outputs": [],
   "source": []
  }
 ]
}