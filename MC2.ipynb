{
 "metadata": {
  "language_info": {
   "codemirror_mode": {
    "name": "ipython",
    "version": 3
   },
   "file_extension": ".py",
   "mimetype": "text/x-python",
   "name": "python",
   "nbconvert_exporter": "python",
   "pygments_lexer": "ipython3",
   "version": "3.6.8-final"
  },
  "orig_nbformat": 2,
  "kernelspec": {
   "name": "Python 3.6.8 64-bit ('venv')",
   "display_name": "Python 3.6.8 64-bit ('venv')",
   "metadata": {
    "interpreter": {
     "hash": "23edad22f41e082f17329df72ca4a9e45cb586987bc1b9b888d7c4f637a14180"
    }
   }
  }
 },
 "nbformat": 4,
 "nbformat_minor": 2,
 "cells": [
  {
   "cell_type": "code",
   "execution_count": 1,
   "metadata": {},
   "outputs": [],
   "source": [
    "#READ_CSV, READ_TEXT, Import Pandas, os\n",
    "\n",
    "import pandas as pd\n",
    "import os\n",
    "\n",
    "def read_csv(path):\n",
    "    df = pd.read_csv(path, encoding='unicode_escape')\n",
    "    df['PersonID'] = os.path.split(path)[1].split('_')[0][6:]\n",
    "    df['ImageID'] = os.path.split(path)[1].split('.')[0][6:]\n",
    "    return df\n",
    "\n",
    "#只有 Text 跟 Caption 會用\n",
    "def read_text(path, colName):\n",
    "    df = pd.read_csv(path, sep='\\t', encoding='unicode_escape', names=[colName])\n",
    "    filename = os.path.split(path)[1]\n",
    "    if 'text' in filename:\n",
    "        df['TextID'] = filename[6:-4]\n",
    "    else:\n",
    "        df['ImageID'] = os.path.split(path)[1].split('.')[0][6:-7]\n",
    "    return df\n"
   ]
  },
  {
   "cell_type": "code",
   "execution_count": 15,
   "metadata": {},
   "outputs": [],
   "source": [
    "#Reading all file\n",
    "\n",
    "DataPath = 'MC2-Image-Data/'\n",
    "\n",
    "#Full DataPaths\n",
    "CsvList = []\n",
    "#ImageList = [] \n",
    "CapList = [] \n",
    "TextList = []\n",
    "\n",
    "#ImagesNames = []\n",
    "\n",
    "for r, d, files in os.walk(DataPath):\n",
    "\n",
    "    if 'TrainingImages' in r:\n",
    "            continue\n",
    "\n",
    "    for _file in files:\n",
    "\n",
    "        if _file.endswith('.csv'):\n",
    "            CsvList.append(r + '/' + _file)\n",
    "        #elif _file.endswith('.jpg'):\n",
    "        #    ImageList.append(r + '/' +_file)\n",
    "        #    ImagesNames.append(_file)\n",
    "        elif 'caption.txt' in _file:\n",
    "            CapList.append(r + '/' +_file)\n",
    "        elif 'text' in _file:\n",
    "            TextList.append(r + '/' +_file)"
   ]
  },
  {
   "cell_type": "code",
   "execution_count": 16,
   "metadata": {},
   "outputs": [],
   "source": [
    "# Make Caption/Text/Csv DataFrame\n",
    "\n",
    "tmp = []\n",
    "for path in CapList:\n",
    "    tmp.append(read_text(path, 'Caption'))\n",
    "\n",
    "cap_df = pd.concat(tmp, ignore_index=True)\n",
    "\n",
    "tmp = []\n",
    "for path in TextList:\n",
    "    tmp.append(read_text(path, 'Text'))\n",
    "\n",
    "text_df = pd.concat(tmp, ignore_index=True)\n",
    "\n",
    "tmp = []\n",
    "for path in CsvList:\n",
    "    tmp.append(read_csv(path))\n",
    "\n",
    "csv_df = pd.concat(tmp, ignore_index=True)"
   ]
  },
  {
   "cell_type": "code",
   "execution_count": 17,
   "metadata": {},
   "outputs": [
    {
     "output_type": "execute_result",
     "data": {
      "text/plain": [
       "         x     y Width Height    Score           Label PersonID ImageID\n",
       "0     2554   313   955    888  0.28139         eyeball        1     1_1\n",
       "1     1855  1724   578   1079  0.34569      pinkCandle        1     1_1\n",
       "2       14   666  1465   2309  0.42683    pumpkinNotes        1     1_1\n",
       "3     1560  1301  1197    615  0.32564  blueSunglasses        1     1_1\n",
       "4       14   464  1775   2268  0.38394       yellowBag        1     1_1\n",
       "...    ...   ...   ...    ...      ...             ...      ...     ...\n",
       "4486    18  1222  2074   2247  0.25895       yellowBag       40   40_10\n",
       "4487  1279   957  1521   1371  0.48834        hairClip       40   40_10\n",
       "4488   847  1556  1590   1544  0.58092      redWhistle       40   40_10\n",
       "4489  1055   795  1953   1602  0.30762        birdCall       40   40_10\n",
       "4490  1884  1176   985   1291  0.30588       cloudSign       40   40_10\n",
       "\n",
       "[4491 rows x 8 columns]"
      ],
      "text/html": "<div>\n<style scoped>\n    .dataframe tbody tr th:only-of-type {\n        vertical-align: middle;\n    }\n\n    .dataframe tbody tr th {\n        vertical-align: top;\n    }\n\n    .dataframe thead th {\n        text-align: right;\n    }\n</style>\n<table border=\"1\" class=\"dataframe\">\n  <thead>\n    <tr style=\"text-align: right;\">\n      <th></th>\n      <th>x</th>\n      <th>y</th>\n      <th>Width</th>\n      <th>Height</th>\n      <th>Score</th>\n      <th>Label</th>\n      <th>PersonID</th>\n      <th>ImageID</th>\n    </tr>\n  </thead>\n  <tbody>\n    <tr>\n      <th>0</th>\n      <td>2554</td>\n      <td>313</td>\n      <td>955</td>\n      <td>888</td>\n      <td>0.28139</td>\n      <td>eyeball</td>\n      <td>1</td>\n      <td>1_1</td>\n    </tr>\n    <tr>\n      <th>1</th>\n      <td>1855</td>\n      <td>1724</td>\n      <td>578</td>\n      <td>1079</td>\n      <td>0.34569</td>\n      <td>pinkCandle</td>\n      <td>1</td>\n      <td>1_1</td>\n    </tr>\n    <tr>\n      <th>2</th>\n      <td>14</td>\n      <td>666</td>\n      <td>1465</td>\n      <td>2309</td>\n      <td>0.42683</td>\n      <td>pumpkinNotes</td>\n      <td>1</td>\n      <td>1_1</td>\n    </tr>\n    <tr>\n      <th>3</th>\n      <td>1560</td>\n      <td>1301</td>\n      <td>1197</td>\n      <td>615</td>\n      <td>0.32564</td>\n      <td>blueSunglasses</td>\n      <td>1</td>\n      <td>1_1</td>\n    </tr>\n    <tr>\n      <th>4</th>\n      <td>14</td>\n      <td>464</td>\n      <td>1775</td>\n      <td>2268</td>\n      <td>0.38394</td>\n      <td>yellowBag</td>\n      <td>1</td>\n      <td>1_1</td>\n    </tr>\n    <tr>\n      <th>...</th>\n      <td>...</td>\n      <td>...</td>\n      <td>...</td>\n      <td>...</td>\n      <td>...</td>\n      <td>...</td>\n      <td>...</td>\n      <td>...</td>\n    </tr>\n    <tr>\n      <th>4486</th>\n      <td>18</td>\n      <td>1222</td>\n      <td>2074</td>\n      <td>2247</td>\n      <td>0.25895</td>\n      <td>yellowBag</td>\n      <td>40</td>\n      <td>40_10</td>\n    </tr>\n    <tr>\n      <th>4487</th>\n      <td>1279</td>\n      <td>957</td>\n      <td>1521</td>\n      <td>1371</td>\n      <td>0.48834</td>\n      <td>hairClip</td>\n      <td>40</td>\n      <td>40_10</td>\n    </tr>\n    <tr>\n      <th>4488</th>\n      <td>847</td>\n      <td>1556</td>\n      <td>1590</td>\n      <td>1544</td>\n      <td>0.58092</td>\n      <td>redWhistle</td>\n      <td>40</td>\n      <td>40_10</td>\n    </tr>\n    <tr>\n      <th>4489</th>\n      <td>1055</td>\n      <td>795</td>\n      <td>1953</td>\n      <td>1602</td>\n      <td>0.30762</td>\n      <td>birdCall</td>\n      <td>40</td>\n      <td>40_10</td>\n    </tr>\n    <tr>\n      <th>4490</th>\n      <td>1884</td>\n      <td>1176</td>\n      <td>985</td>\n      <td>1291</td>\n      <td>0.30588</td>\n      <td>cloudSign</td>\n      <td>40</td>\n      <td>40_10</td>\n    </tr>\n  </tbody>\n</table>\n<p>4491 rows × 8 columns</p>\n</div>"
     },
     "metadata": {},
     "execution_count": 17
    }
   ],
   "source": [
    "# Sort by Simply ImageID\n",
    "csv_df['Sort'] = csv_df['ImageID'].apply(lambda x : int(x.replace('_', \"\"))) \n",
    "csv_df = csv_df.sort_values(by='Sort', ignore_index=True)\n",
    "csv_df = csv_df.drop(columns = ['Sort'])\n",
    "csv_df\n",
    "\n"
   ]
  },
  {
   "cell_type": "code",
   "execution_count": 18,
   "metadata": {},
   "outputs": [
    {
     "output_type": "execute_result",
     "data": {
      "text/plain": [
       "         x     y Width Height    Score           Label PersonID ImageID\n",
       "0     2554   313   955    888  0.28139         eyeball        1     1_1\n",
       "1     1855  1724   578   1079  0.34569      pinkCandle        1     1_1\n",
       "2       14   666  1465   2309  0.42683    pumpkinNotes        1     1_1\n",
       "3     1560  1301  1197    615  0.32564  blueSunglasses        1     1_1\n",
       "4       14   464  1775   2268  0.38394       yellowBag        1     1_1\n",
       "...    ...   ...   ...    ...      ...             ...      ...     ...\n",
       "4486    18  1222  2074   2247  0.25895       yellowBag       40   40_10\n",
       "4487  1279   957  1521   1371  0.48834        hairClip       40   40_10\n",
       "4488   847  1556  1590   1544  0.58092      redWhistle       40   40_10\n",
       "4489  1055   795  1953   1602  0.30762        birdCall       40   40_10\n",
       "4490  1884  1176   985   1291  0.30588       cloudSign       40   40_10\n",
       "\n",
       "[4491 rows x 8 columns]"
      ],
      "text/html": "<div>\n<style scoped>\n    .dataframe tbody tr th:only-of-type {\n        vertical-align: middle;\n    }\n\n    .dataframe tbody tr th {\n        vertical-align: top;\n    }\n\n    .dataframe thead th {\n        text-align: right;\n    }\n</style>\n<table border=\"1\" class=\"dataframe\">\n  <thead>\n    <tr style=\"text-align: right;\">\n      <th></th>\n      <th>x</th>\n      <th>y</th>\n      <th>Width</th>\n      <th>Height</th>\n      <th>Score</th>\n      <th>Label</th>\n      <th>PersonID</th>\n      <th>ImageID</th>\n    </tr>\n  </thead>\n  <tbody>\n    <tr>\n      <th>0</th>\n      <td>2554</td>\n      <td>313</td>\n      <td>955</td>\n      <td>888</td>\n      <td>0.28139</td>\n      <td>eyeball</td>\n      <td>1</td>\n      <td>1_1</td>\n    </tr>\n    <tr>\n      <th>1</th>\n      <td>1855</td>\n      <td>1724</td>\n      <td>578</td>\n      <td>1079</td>\n      <td>0.34569</td>\n      <td>pinkCandle</td>\n      <td>1</td>\n      <td>1_1</td>\n    </tr>\n    <tr>\n      <th>2</th>\n      <td>14</td>\n      <td>666</td>\n      <td>1465</td>\n      <td>2309</td>\n      <td>0.42683</td>\n      <td>pumpkinNotes</td>\n      <td>1</td>\n      <td>1_1</td>\n    </tr>\n    <tr>\n      <th>3</th>\n      <td>1560</td>\n      <td>1301</td>\n      <td>1197</td>\n      <td>615</td>\n      <td>0.32564</td>\n      <td>blueSunglasses</td>\n      <td>1</td>\n      <td>1_1</td>\n    </tr>\n    <tr>\n      <th>4</th>\n      <td>14</td>\n      <td>464</td>\n      <td>1775</td>\n      <td>2268</td>\n      <td>0.38394</td>\n      <td>yellowBag</td>\n      <td>1</td>\n      <td>1_1</td>\n    </tr>\n    <tr>\n      <th>...</th>\n      <td>...</td>\n      <td>...</td>\n      <td>...</td>\n      <td>...</td>\n      <td>...</td>\n      <td>...</td>\n      <td>...</td>\n      <td>...</td>\n    </tr>\n    <tr>\n      <th>4486</th>\n      <td>18</td>\n      <td>1222</td>\n      <td>2074</td>\n      <td>2247</td>\n      <td>0.25895</td>\n      <td>yellowBag</td>\n      <td>40</td>\n      <td>40_10</td>\n    </tr>\n    <tr>\n      <th>4487</th>\n      <td>1279</td>\n      <td>957</td>\n      <td>1521</td>\n      <td>1371</td>\n      <td>0.48834</td>\n      <td>hairClip</td>\n      <td>40</td>\n      <td>40_10</td>\n    </tr>\n    <tr>\n      <th>4488</th>\n      <td>847</td>\n      <td>1556</td>\n      <td>1590</td>\n      <td>1544</td>\n      <td>0.58092</td>\n      <td>redWhistle</td>\n      <td>40</td>\n      <td>40_10</td>\n    </tr>\n    <tr>\n      <th>4489</th>\n      <td>1055</td>\n      <td>795</td>\n      <td>1953</td>\n      <td>1602</td>\n      <td>0.30762</td>\n      <td>birdCall</td>\n      <td>40</td>\n      <td>40_10</td>\n    </tr>\n    <tr>\n      <th>4490</th>\n      <td>1884</td>\n      <td>1176</td>\n      <td>985</td>\n      <td>1291</td>\n      <td>0.30588</td>\n      <td>cloudSign</td>\n      <td>40</td>\n      <td>40_10</td>\n    </tr>\n  </tbody>\n</table>\n<p>4491 rows × 8 columns</p>\n</div>"
     },
     "metadata": {},
     "execution_count": 18
    }
   ],
   "source": [
    "# Save Files\n",
    "csv_df.to_json('FineData.json', orient='records')\n",
    "csv_df\n"
   ]
  },
  {
   "cell_type": "code",
   "execution_count": 22,
   "metadata": {},
   "outputs": [
    {
     "output_type": "execute_result",
     "data": {
      "text/plain": [
       "         x     y  Width  Height    Score           Label PersonID ImageID\n",
       "0     2554   313    955     888  0.28139         eyeball        1     1_1\n",
       "1     1855  1724    578    1079  0.34569      pinkCandle        1     1_1\n",
       "2       14   666   1465    2309  0.42683    pumpkinNotes        1     1_1\n",
       "3     1560  1301   1197     615  0.32564  blueSunglasses        1     1_1\n",
       "4       14   464   1775    2268  0.38394       yellowBag        1     1_1\n",
       "...    ...   ...    ...     ...      ...             ...      ...     ...\n",
       "4486    18  1222   2074    2247  0.25895       yellowBag       40   40_10\n",
       "4487  1279   957   1521    1371  0.48834        hairClip       40   40_10\n",
       "4488   847  1556   1590    1544  0.58092      redWhistle       40   40_10\n",
       "4489  1055   795   1953    1602  0.30762        birdCall       40   40_10\n",
       "4490  1884  1176    985    1291  0.30588       cloudSign       40   40_10\n",
       "\n",
       "[4491 rows x 8 columns]"
      ],
      "text/html": "<div>\n<style scoped>\n    .dataframe tbody tr th:only-of-type {\n        vertical-align: middle;\n    }\n\n    .dataframe tbody tr th {\n        vertical-align: top;\n    }\n\n    .dataframe thead th {\n        text-align: right;\n    }\n</style>\n<table border=\"1\" class=\"dataframe\">\n  <thead>\n    <tr style=\"text-align: right;\">\n      <th></th>\n      <th>x</th>\n      <th>y</th>\n      <th>Width</th>\n      <th>Height</th>\n      <th>Score</th>\n      <th>Label</th>\n      <th>PersonID</th>\n      <th>ImageID</th>\n    </tr>\n  </thead>\n  <tbody>\n    <tr>\n      <th>0</th>\n      <td>2554</td>\n      <td>313</td>\n      <td>955</td>\n      <td>888</td>\n      <td>0.28139</td>\n      <td>eyeball</td>\n      <td>1</td>\n      <td>1_1</td>\n    </tr>\n    <tr>\n      <th>1</th>\n      <td>1855</td>\n      <td>1724</td>\n      <td>578</td>\n      <td>1079</td>\n      <td>0.34569</td>\n      <td>pinkCandle</td>\n      <td>1</td>\n      <td>1_1</td>\n    </tr>\n    <tr>\n      <th>2</th>\n      <td>14</td>\n      <td>666</td>\n      <td>1465</td>\n      <td>2309</td>\n      <td>0.42683</td>\n      <td>pumpkinNotes</td>\n      <td>1</td>\n      <td>1_1</td>\n    </tr>\n    <tr>\n      <th>3</th>\n      <td>1560</td>\n      <td>1301</td>\n      <td>1197</td>\n      <td>615</td>\n      <td>0.32564</td>\n      <td>blueSunglasses</td>\n      <td>1</td>\n      <td>1_1</td>\n    </tr>\n    <tr>\n      <th>4</th>\n      <td>14</td>\n      <td>464</td>\n      <td>1775</td>\n      <td>2268</td>\n      <td>0.38394</td>\n      <td>yellowBag</td>\n      <td>1</td>\n      <td>1_1</td>\n    </tr>\n    <tr>\n      <th>...</th>\n      <td>...</td>\n      <td>...</td>\n      <td>...</td>\n      <td>...</td>\n      <td>...</td>\n      <td>...</td>\n      <td>...</td>\n      <td>...</td>\n    </tr>\n    <tr>\n      <th>4486</th>\n      <td>18</td>\n      <td>1222</td>\n      <td>2074</td>\n      <td>2247</td>\n      <td>0.25895</td>\n      <td>yellowBag</td>\n      <td>40</td>\n      <td>40_10</td>\n    </tr>\n    <tr>\n      <th>4487</th>\n      <td>1279</td>\n      <td>957</td>\n      <td>1521</td>\n      <td>1371</td>\n      <td>0.48834</td>\n      <td>hairClip</td>\n      <td>40</td>\n      <td>40_10</td>\n    </tr>\n    <tr>\n      <th>4488</th>\n      <td>847</td>\n      <td>1556</td>\n      <td>1590</td>\n      <td>1544</td>\n      <td>0.58092</td>\n      <td>redWhistle</td>\n      <td>40</td>\n      <td>40_10</td>\n    </tr>\n    <tr>\n      <th>4489</th>\n      <td>1055</td>\n      <td>795</td>\n      <td>1953</td>\n      <td>1602</td>\n      <td>0.30762</td>\n      <td>birdCall</td>\n      <td>40</td>\n      <td>40_10</td>\n    </tr>\n    <tr>\n      <th>4490</th>\n      <td>1884</td>\n      <td>1176</td>\n      <td>985</td>\n      <td>1291</td>\n      <td>0.30588</td>\n      <td>cloudSign</td>\n      <td>40</td>\n      <td>40_10</td>\n    </tr>\n  </tbody>\n</table>\n<p>4491 rows × 8 columns</p>\n</div>"
     },
     "metadata": {},
     "execution_count": 22
    }
   ],
   "source": [
    "# Load FineData\n",
    "Df = pd.read_json('FineData.json', orient='records', dtype=False)\n",
    "Df\n"
   ]
  },
  {
   "cell_type": "code",
   "execution_count": 23,
   "metadata": {},
   "outputs": [
    {
     "output_type": "execute_result",
     "data": {
      "text/plain": [
       "    ImageID PersonID       PC1       PC2\n",
       "0      10_1       10  0.254840 -1.394797\n",
       "1     10_10       10 -1.037851  1.149821\n",
       "2     10_11       10 -0.919088  1.095798\n",
       "3     10_12       10  0.309356 -0.378061\n",
       "4     10_13       10 -1.293908 -1.748523\n",
       "..      ...      ...       ...       ...\n",
       "889     9_5        9 -1.313600 -1.120599\n",
       "890     9_6        9 -0.164981  0.763328\n",
       "891     9_7        9  0.913529  1.366127\n",
       "892     9_8        9  3.071218  0.647996\n",
       "893     9_9        9  0.344307  0.751162\n",
       "\n",
       "[894 rows x 4 columns]"
      ],
      "text/html": "<div>\n<style scoped>\n    .dataframe tbody tr th:only-of-type {\n        vertical-align: middle;\n    }\n\n    .dataframe tbody tr th {\n        vertical-align: top;\n    }\n\n    .dataframe thead th {\n        text-align: right;\n    }\n</style>\n<table border=\"1\" class=\"dataframe\">\n  <thead>\n    <tr style=\"text-align: right;\">\n      <th></th>\n      <th>ImageID</th>\n      <th>PersonID</th>\n      <th>PC1</th>\n      <th>PC2</th>\n    </tr>\n  </thead>\n  <tbody>\n    <tr>\n      <th>0</th>\n      <td>10_1</td>\n      <td>10</td>\n      <td>0.254840</td>\n      <td>-1.394797</td>\n    </tr>\n    <tr>\n      <th>1</th>\n      <td>10_10</td>\n      <td>10</td>\n      <td>-1.037851</td>\n      <td>1.149821</td>\n    </tr>\n    <tr>\n      <th>2</th>\n      <td>10_11</td>\n      <td>10</td>\n      <td>-0.919088</td>\n      <td>1.095798</td>\n    </tr>\n    <tr>\n      <th>3</th>\n      <td>10_12</td>\n      <td>10</td>\n      <td>0.309356</td>\n      <td>-0.378061</td>\n    </tr>\n    <tr>\n      <th>4</th>\n      <td>10_13</td>\n      <td>10</td>\n      <td>-1.293908</td>\n      <td>-1.748523</td>\n    </tr>\n    <tr>\n      <th>...</th>\n      <td>...</td>\n      <td>...</td>\n      <td>...</td>\n      <td>...</td>\n    </tr>\n    <tr>\n      <th>889</th>\n      <td>9_5</td>\n      <td>9</td>\n      <td>-1.313600</td>\n      <td>-1.120599</td>\n    </tr>\n    <tr>\n      <th>890</th>\n      <td>9_6</td>\n      <td>9</td>\n      <td>-0.164981</td>\n      <td>0.763328</td>\n    </tr>\n    <tr>\n      <th>891</th>\n      <td>9_7</td>\n      <td>9</td>\n      <td>0.913529</td>\n      <td>1.366127</td>\n    </tr>\n    <tr>\n      <th>892</th>\n      <td>9_8</td>\n      <td>9</td>\n      <td>3.071218</td>\n      <td>0.647996</td>\n    </tr>\n    <tr>\n      <th>893</th>\n      <td>9_9</td>\n      <td>9</td>\n      <td>0.344307</td>\n      <td>0.751162</td>\n    </tr>\n  </tbody>\n</table>\n<p>894 rows × 4 columns</p>\n</div>"
     },
     "metadata": {},
     "execution_count": 23
    }
   ],
   "source": [
    "# Find PCA\n",
    "import numpy as np\n",
    "from sklearn import preprocessing\n",
    "from sklearn import decomposition\n",
    "\n",
    "pivot = Df.pivot(index='ImageID', columns='Label', values='Score').fillna(0.0).astype(np.float)\n",
    "#print(pivot.shape)\n",
    "\n",
    "target = pd.DataFrame(pivot.index)\n",
    "target['PersonID'] = target['ImageID'].apply(lambda x : x.split('_')[0])\n",
    "#print(target.shape)\n",
    "\n",
    "X = pivot.to_numpy()\n",
    "X = preprocessing.scale(X)\n",
    "\n",
    "pca = decomposition.PCA(n_components=2)\n",
    "X_r = pca.fit_transform(X)\n",
    "\n",
    "pca_df = pd.DataFrame(X_r, columns=['PC1', 'PC2'])\n",
    "\n",
    "\n",
    "# Concat Target and PCA\n",
    "res = pd.concat([target, pca_df], axis=1)\n",
    "res"
   ]
  },
  {
   "cell_type": "code",
   "execution_count": 12,
   "metadata": {},
   "outputs": [
    {
     "output_type": "error",
     "ename": "NameError",
     "evalue": "name 'res' is not defined",
     "traceback": [
      "\u001b[0;31m---------------------------------------------------------------------------\u001b[0m",
      "\u001b[0;31mNameError\u001b[0m                                 Traceback (most recent call last)",
      "\u001b[0;32m<ipython-input-12-27dad49f8a98>\u001b[0m in \u001b[0;36m<module>\u001b[0;34m\u001b[0m\n\u001b[1;32m      1\u001b[0m \u001b[0;31m#Save PCA fineData\u001b[0m\u001b[0;34m\u001b[0m\u001b[0;34m\u001b[0m\u001b[0;34m\u001b[0m\u001b[0m\n\u001b[0;32m----> 2\u001b[0;31m \u001b[0mres\u001b[0m\u001b[0;34m.\u001b[0m\u001b[0mto_json\u001b[0m\u001b[0;34m(\u001b[0m\u001b[0;34m'PCA.json'\u001b[0m\u001b[0;34m,\u001b[0m \u001b[0morient\u001b[0m\u001b[0;34m=\u001b[0m\u001b[0;34m'records'\u001b[0m\u001b[0;34m)\u001b[0m\u001b[0;34m\u001b[0m\u001b[0;34m\u001b[0m\u001b[0m\n\u001b[0m",
      "\u001b[0;31mNameError\u001b[0m: name 'res' is not defined"
     ]
    }
   ],
   "source": [
    "#Save PCA fineData\n",
    "res.to_json('PCA.json', orient='records')"
   ]
  },
  {
   "cell_type": "code",
   "execution_count": 41,
   "metadata": {},
   "outputs": [
    {
     "output_type": "execute_result",
     "data": {
      "text/plain": [
       "  ImageID PersonID       PC1       PC2\n",
       "0    10_1       10  0.254840 -1.394797\n",
       "1   10_10       10 -1.037851  1.149821\n",
       "2   10_11       10 -0.919088  1.095798\n",
       "3   10_12       10  0.309356 -0.378061\n",
       "4   10_13       10 -1.293908 -1.748523"
      ],
      "text/html": "<div>\n<style scoped>\n    .dataframe tbody tr th:only-of-type {\n        vertical-align: middle;\n    }\n\n    .dataframe tbody tr th {\n        vertical-align: top;\n    }\n\n    .dataframe thead th {\n        text-align: right;\n    }\n</style>\n<table border=\"1\" class=\"dataframe\">\n  <thead>\n    <tr style=\"text-align: right;\">\n      <th></th>\n      <th>ImageID</th>\n      <th>PersonID</th>\n      <th>PC1</th>\n      <th>PC2</th>\n    </tr>\n  </thead>\n  <tbody>\n    <tr>\n      <th>0</th>\n      <td>10_1</td>\n      <td>10</td>\n      <td>0.254840</td>\n      <td>-1.394797</td>\n    </tr>\n    <tr>\n      <th>1</th>\n      <td>10_10</td>\n      <td>10</td>\n      <td>-1.037851</td>\n      <td>1.149821</td>\n    </tr>\n    <tr>\n      <th>2</th>\n      <td>10_11</td>\n      <td>10</td>\n      <td>-0.919088</td>\n      <td>1.095798</td>\n    </tr>\n    <tr>\n      <th>3</th>\n      <td>10_12</td>\n      <td>10</td>\n      <td>0.309356</td>\n      <td>-0.378061</td>\n    </tr>\n    <tr>\n      <th>4</th>\n      <td>10_13</td>\n      <td>10</td>\n      <td>-1.293908</td>\n      <td>-1.748523</td>\n    </tr>\n  </tbody>\n</table>\n</div>"
     },
     "metadata": {},
     "execution_count": 41
    }
   ],
   "source": [
    "#Load PCA\n",
    "PCA_df = pd.read_json('PCA.json', orient='records', dtype=False)\n",
    "PCA_df.head()"
   ]
  },
  {
   "cell_type": "code",
   "execution_count": 70,
   "metadata": {},
   "outputs": [
    {
     "output_type": "execute_result",
     "data": {
      "text/plain": [
       "         y     x  Height  Width ImageID PersonID         Label\n",
       "0      427   288     650    672    37_9       37     cloudSign\n",
       "1      335  2842    2634    730    37_9       37    noisemaker\n",
       "2      335  3223    2664    763    37_9       37    noisemaker\n",
       "3      298  1038     888   1000    37_9       37    paperPlate\n",
       "4      642  2062     488    688    37_9       37    partyFavor\n",
       "...    ...   ...     ...    ...     ...      ...           ...\n",
       "1353  1386  2776     242    324   34_44       34        turtle\n",
       "1354  1972  1508     524    362     5_6        5  legoBracelet\n",
       "1355  1712  1940     232    629     5_6        5    redWhistle\n",
       "1356   781  2564     330    682     5_6        5    pinkEraser\n",
       "1357   350  2127    1248    513   11_18       11    noisemaker\n",
       "\n",
       "[1358 rows x 7 columns]"
      ],
      "text/html": "<div>\n<style scoped>\n    .dataframe tbody tr th:only-of-type {\n        vertical-align: middle;\n    }\n\n    .dataframe tbody tr th {\n        vertical-align: top;\n    }\n\n    .dataframe thead th {\n        text-align: right;\n    }\n</style>\n<table border=\"1\" class=\"dataframe\">\n  <thead>\n    <tr style=\"text-align: right;\">\n      <th></th>\n      <th>y</th>\n      <th>x</th>\n      <th>Height</th>\n      <th>Width</th>\n      <th>ImageID</th>\n      <th>PersonID</th>\n      <th>Label</th>\n    </tr>\n  </thead>\n  <tbody>\n    <tr>\n      <th>0</th>\n      <td>427</td>\n      <td>288</td>\n      <td>650</td>\n      <td>672</td>\n      <td>37_9</td>\n      <td>37</td>\n      <td>cloudSign</td>\n    </tr>\n    <tr>\n      <th>1</th>\n      <td>335</td>\n      <td>2842</td>\n      <td>2634</td>\n      <td>730</td>\n      <td>37_9</td>\n      <td>37</td>\n      <td>noisemaker</td>\n    </tr>\n    <tr>\n      <th>2</th>\n      <td>335</td>\n      <td>3223</td>\n      <td>2664</td>\n      <td>763</td>\n      <td>37_9</td>\n      <td>37</td>\n      <td>noisemaker</td>\n    </tr>\n    <tr>\n      <th>3</th>\n      <td>298</td>\n      <td>1038</td>\n      <td>888</td>\n      <td>1000</td>\n      <td>37_9</td>\n      <td>37</td>\n      <td>paperPlate</td>\n    </tr>\n    <tr>\n      <th>4</th>\n      <td>642</td>\n      <td>2062</td>\n      <td>488</td>\n      <td>688</td>\n      <td>37_9</td>\n      <td>37</td>\n      <td>partyFavor</td>\n    </tr>\n    <tr>\n      <th>...</th>\n      <td>...</td>\n      <td>...</td>\n      <td>...</td>\n      <td>...</td>\n      <td>...</td>\n      <td>...</td>\n      <td>...</td>\n    </tr>\n    <tr>\n      <th>1353</th>\n      <td>1386</td>\n      <td>2776</td>\n      <td>242</td>\n      <td>324</td>\n      <td>34_44</td>\n      <td>34</td>\n      <td>turtle</td>\n    </tr>\n    <tr>\n      <th>1354</th>\n      <td>1972</td>\n      <td>1508</td>\n      <td>524</td>\n      <td>362</td>\n      <td>5_6</td>\n      <td>5</td>\n      <td>legoBracelet</td>\n    </tr>\n    <tr>\n      <th>1355</th>\n      <td>1712</td>\n      <td>1940</td>\n      <td>232</td>\n      <td>629</td>\n      <td>5_6</td>\n      <td>5</td>\n      <td>redWhistle</td>\n    </tr>\n    <tr>\n      <th>1356</th>\n      <td>781</td>\n      <td>2564</td>\n      <td>330</td>\n      <td>682</td>\n      <td>5_6</td>\n      <td>5</td>\n      <td>pinkEraser</td>\n    </tr>\n    <tr>\n      <th>1357</th>\n      <td>350</td>\n      <td>2127</td>\n      <td>1248</td>\n      <td>513</td>\n      <td>11_18</td>\n      <td>11</td>\n      <td>noisemaker</td>\n    </tr>\n  </tbody>\n</table>\n<p>1358 rows × 7 columns</p>\n</div>"
     },
     "metadata": {},
     "execution_count": 70
    }
   ],
   "source": [
    "#Start Ground Truth\n",
    "#ref <https://github.com/gj0706/VAST2020_MC2/tree/master/data>\n",
    "\n",
    "#Load Ground Truth\n",
    "ground_truth_df = pd.read_json('gt.json', dtype=False)\n",
    "ground_truth_df.head()\n",
    "\n",
    "ground_truth_df.columns=['y','x', 'Height', 'Width', 'ImageID', 'PersonID', 'Label']\n",
    "ground_truth_df"
   ]
  },
  {
   "cell_type": "code",
   "execution_count": 75,
   "metadata": {},
   "outputs": [],
   "source": [
    "#Concat Ground Truth and PCA\n",
    "gt_df = pd.merge(ground_truth_df, PCA_df) #順便移除含null列\n",
    "gt_df = gt_df.drop(['PC1','PC2'], axis=1)"
   ]
  },
  {
   "cell_type": "code",
   "execution_count": 76,
   "metadata": {},
   "outputs": [],
   "source": [
    "#Find Ground Truth PCA\n",
    "import numpy as np\n",
    "from sklearn import preprocessing\n",
    "from sklearn import decomposition\n",
    "\n",
    "final = gt_df\n",
    "final['Score'] = 1\n",
    "final = final.drop_duplicates(subset=['PersonID', 'ImageID', 'Label'])\n",
    "final = final\n",
    "pivot = pd.pivot(final, index='ImageID', columns='Label', values='Score').fillna(0).astype(np.float)\n",
    "\n",
    "target = pd.DataFrame(pivot.index)\n",
    "target['PersonID'] = target['ImageID'].apply(lambda x : x.split('_')[0])\n",
    "\n",
    "\n",
    "X = pivot.to_numpy()\n",
    "X = preprocessing.scale(X)\n",
    "\n",
    "pca = decomposition.PCA(n_components=2)\n",
    "X_r = pca.fit_transform(X)\n",
    "\n",
    "pca_df = pd.DataFrame(X_r, columns=['PC1', 'PC2'])\n",
    "gt_pca = pd.concat([target, pca_df], axis=1)\n"
   ]
  },
  {
   "cell_type": "code",
   "execution_count": 77,
   "metadata": {},
   "outputs": [
    {
     "output_type": "execute_result",
     "data": {
      "text/plain": [
       "(836, 4)"
      ]
     },
     "metadata": {},
     "execution_count": 77
    }
   ],
   "source": [
    "# Save gt_pca\n",
    "gt_pca.to_json('gt_pca.json', orient='records')\n",
    "gt_pca.shape"
   ]
  },
  {
   "cell_type": "code",
   "execution_count": 79,
   "metadata": {},
   "outputs": [
    {
     "output_type": "execute_result",
     "data": {
      "text/plain": [
       "     ImageID  PersonID       PC1       PC2\n",
       "0        101        10 -2.448205  2.265939\n",
       "1       1010        10  0.230774  0.022376\n",
       "2       1011        10  0.230774  0.022376\n",
       "3       1012        10 -0.004004 -0.881544\n",
       "4       1013        10 -0.004004 -0.881544\n",
       "..       ...       ...       ...       ...\n",
       "831       95         9  0.146416 -0.731510\n",
       "832       96         9 -0.974699  0.626564\n",
       "833       97         9 -0.974699  0.626564\n",
       "834       98         9 -1.750895 -0.520572\n",
       "835       99         9 -0.974699  0.626564\n",
       "\n",
       "[836 rows x 4 columns]"
      ],
      "text/html": "<div>\n<style scoped>\n    .dataframe tbody tr th:only-of-type {\n        vertical-align: middle;\n    }\n\n    .dataframe tbody tr th {\n        vertical-align: top;\n    }\n\n    .dataframe thead th {\n        text-align: right;\n    }\n</style>\n<table border=\"1\" class=\"dataframe\">\n  <thead>\n    <tr style=\"text-align: right;\">\n      <th></th>\n      <th>ImageID</th>\n      <th>PersonID</th>\n      <th>PC1</th>\n      <th>PC2</th>\n    </tr>\n  </thead>\n  <tbody>\n    <tr>\n      <th>0</th>\n      <td>101</td>\n      <td>10</td>\n      <td>-2.448205</td>\n      <td>2.265939</td>\n    </tr>\n    <tr>\n      <th>1</th>\n      <td>1010</td>\n      <td>10</td>\n      <td>0.230774</td>\n      <td>0.022376</td>\n    </tr>\n    <tr>\n      <th>2</th>\n      <td>1011</td>\n      <td>10</td>\n      <td>0.230774</td>\n      <td>0.022376</td>\n    </tr>\n    <tr>\n      <th>3</th>\n      <td>1012</td>\n      <td>10</td>\n      <td>-0.004004</td>\n      <td>-0.881544</td>\n    </tr>\n    <tr>\n      <th>4</th>\n      <td>1013</td>\n      <td>10</td>\n      <td>-0.004004</td>\n      <td>-0.881544</td>\n    </tr>\n    <tr>\n      <th>...</th>\n      <td>...</td>\n      <td>...</td>\n      <td>...</td>\n      <td>...</td>\n    </tr>\n    <tr>\n      <th>831</th>\n      <td>95</td>\n      <td>9</td>\n      <td>0.146416</td>\n      <td>-0.731510</td>\n    </tr>\n    <tr>\n      <th>832</th>\n      <td>96</td>\n      <td>9</td>\n      <td>-0.974699</td>\n      <td>0.626564</td>\n    </tr>\n    <tr>\n      <th>833</th>\n      <td>97</td>\n      <td>9</td>\n      <td>-0.974699</td>\n      <td>0.626564</td>\n    </tr>\n    <tr>\n      <th>834</th>\n      <td>98</td>\n      <td>9</td>\n      <td>-1.750895</td>\n      <td>-0.520572</td>\n    </tr>\n    <tr>\n      <th>835</th>\n      <td>99</td>\n      <td>9</td>\n      <td>-0.974699</td>\n      <td>0.626564</td>\n    </tr>\n  </tbody>\n</table>\n<p>836 rows × 4 columns</p>\n</div>"
     },
     "metadata": {},
     "execution_count": 79
    }
   ],
   "source": [
    "gt_pca = pd.read_json('gt_pca.json')\n",
    "gt_pca"
   ]
  },
  {
   "cell_type": "code",
   "execution_count": null,
   "metadata": {},
   "outputs": [],
   "source": []
  }
 ]
}