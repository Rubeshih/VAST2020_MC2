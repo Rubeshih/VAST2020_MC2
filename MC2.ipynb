{
 "metadata": {
  "language_info": {
   "codemirror_mode": {
    "name": "ipython",
    "version": 3
   },
   "file_extension": ".py",
   "mimetype": "text/x-python",
   "name": "python",
   "nbconvert_exporter": "python",
   "pygments_lexer": "ipython3",
   "version": "3.8.2-final"
  },
  "orig_nbformat": 2,
  "kernelspec": {
   "name": "Python 3.8.2 64-bit ('myvenv')",
   "display_name": "Python 3.8.2 64-bit ('myvenv')",
   "metadata": {
    "interpreter": {
     "hash": "c448392b90dbbf574ef5fa0e52457b90caeebfd577fdcbc0fc2325c4be8931ef"
    }
   }
  }
 },
 "nbformat": 4,
 "nbformat_minor": 2,
 "cells": [
  {
   "cell_type": "code",
   "execution_count": 1,
   "metadata": {},
   "outputs": [],
   "source": [
    "#READ_CSV, READ_TEXT, Import Pandas, os\n",
    "\n",
    "import pandas as pd\n",
    "import os\n",
    "\n",
    "def read_csv(path):\n",
    "    df = pd.read_csv(path, encoding='unicode_escape')\n",
    "    df['PersonID'] = os.path.split(path)[1].split('_')[0][6:]\n",
    "    df['ImageID'] = os.path.split(path)[1].split('.')[0][6:]\n",
    "    return df\n",
    "\n",
    "#只有 Text 跟 Caption 會用\n",
    "def read_text(path, colName):\n",
    "    df = pd.read_csv(path, sep='\\t', encoding='unicode_escape', names=[colName])\n",
    "    filename = os.path.split(path)[1]\n",
    "    if 'text' in filename:\n",
    "        df['TextID'] = filename[6:-4]\n",
    "    else:\n",
    "        df['ImageID'] = os.path.split(path)[1].split('.')[0][6:-7]\n",
    "    return df\n"
   ]
  },
  {
   "cell_type": "code",
   "execution_count": 2,
   "metadata": {},
   "outputs": [],
   "source": [
    "#Reading all file\n",
    "\n",
    "DataPath = 'MC2-Image-Data/'\n",
    "\n",
    "#Full DataPaths\n",
    "CsvList = []\n",
    "ImageList = []\n",
    "CapList = []\n",
    "TextList = []\n",
    "\n",
    "ImagesNames = []\n",
    "\n",
    "for r, d, files in os.walk(DataPath):\n",
    "\n",
    "    if 'TrainingImages' in r:\n",
    "            continue\n",
    "\n",
    "    for _file in files:\n",
    "\n",
    "        if _file.endswith('.csv'):\n",
    "            CsvList.append(r + '/' + _file)\n",
    "        elif _file.endswith('.jpg'):\n",
    "            ImageList.append(r + '/' +_file)\n",
    "            ImagesNames.append(_file)\n",
    "        elif 'caption.txt' in _file:\n",
    "            CapList.append(r + '/' +_file)\n",
    "        elif 'text' in _file:\n",
    "            TextList.append(r + '/' +_file)"
   ]
  },
  {
   "cell_type": "code",
   "execution_count": 3,
   "metadata": {},
   "outputs": [],
   "source": [
    "# Make Caption/Text/Csv DataFrame\n",
    "\n",
    "tmp = []\n",
    "for path in CapList:\n",
    "    tmp.append(read_text(path, 'Caption'))\n",
    "\n",
    "cap_df = pd.concat(tmp, ignore_index=True)\n",
    "\n",
    "tmp = []\n",
    "for path in TextList:\n",
    "    tmp.append(read_text(path, 'Text'))\n",
    "\n",
    "text_df = pd.concat(tmp, ignore_index=True)\n",
    "\n",
    "tmp = []\n",
    "for path in CsvList:\n",
    "    tmp.append(read_csv(path))\n",
    "\n",
    "csv_df = pd.concat(tmp, ignore_index=True)"
   ]
  },
  {
   "cell_type": "code",
   "execution_count": 4,
   "metadata": {},
   "outputs": [],
   "source": [
    "# Sort by Simply ImageID\n",
    "csv_df['Sort'] = csv_df['ImageID'].apply(lambda x : int(x.replace('_', \"\"))) \n",
    "csv_df = csv_df.sort_values(by='Sort', ignore_index=True)\n",
    "csv_df = csv_df.drop(columns = ['Sort'])\n",
    "\n"
   ]
  },
  {
   "cell_type": "code",
   "execution_count": 5,
   "metadata": {},
   "outputs": [],
   "source": [
    "# Save Files\n",
    "csv_df.to_json('Fine_Data', orient='records')\n"
   ]
  },
  {
   "cell_type": "code",
   "execution_count": null,
   "metadata": {},
   "outputs": [],
   "source": []
  }
 ]
}